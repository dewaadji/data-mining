{
  "nbformat": 4,
  "nbformat_minor": 0,
  "metadata": {
    "colab": {
      "provenance": [],
      "toc_visible": true
    },
    "kernelspec": {
      "name": "python3",
      "display_name": "Python 3"
    },
    "language_info": {
      "name": "python"
    }
  },
  "cells": [
    {
      "cell_type": "markdown",
      "source": [
        "# library"
      ],
      "metadata": {
        "id": "XpHZqmFzJ6Y-"
      }
    },
    {
      "cell_type": "code",
      "execution_count": null,
      "metadata": {
        "id": "4K2yguQHG2vW"
      },
      "outputs": [],
      "source": [
        "import pandas as pd\n",
        "import numpy as np\n",
        "import matplotlib.pyplot as plt\n",
        "import seaborn as sns\n",
        "\n",
        "\n",
        "from sklearn.preprocessing import MinMaxScaler\n",
        "from sklearn.preprocessing import LabelEncoder\n",
        "from sklearn.model_selection import train_test_split\n",
        "import random\n",
        "import math\n",
        "from sklearn.model_selection import GridSearchCV\n",
        "\n",
        "from sklearn.linear_model import LinearRegression\n",
        "from sklearn.svm import SVR\n",
        "from sklearn.linear_model import Lasso\n",
        "from sklearn.ensemble import GradientBoostingRegressor, RandomForestRegressor, RandomForestClassifier\n",
        "\n",
        "from sklearn.metrics import mean_squared_error, mean_absolute_error"
      ]
    },
    {
      "cell_type": "code",
      "source": [
        "#mount gdrive"
      ],
      "metadata": {
        "id": "y_sWgo1THqvI"
      },
      "execution_count": null,
      "outputs": []
    },
    {
      "cell_type": "markdown",
      "source": [
        "# import data"
      ],
      "metadata": {
        "id": "iuGkDAIBHxyA"
      }
    },
    {
      "cell_type": "code",
      "source": [
        "df = pd.read_csv('/content/drive/MyDrive/Informatics-ITTP/SEMESTER 6/Data Mining/TUBES/20210519_opendata-1.csv')\n",
        "df_dict = pd.read_csv('/content/drive/MyDrive/Informatics-ITTP/SEMESTER 6/Data Mining/TUBES/data-dictionary.csv')\n",
        "\n",
        "df.head(100)"
      ],
      "metadata": {
        "colab": {
          "base_uri": "https://localhost:8080/",
          "height": 800
        },
        "id": "yDAqOmQSHwsw",
        "outputId": "e5ba6efc-628a-4549-f32a-53d136927b2f"
      },
      "execution_count": null,
      "outputs": [
        {
          "output_type": "execute_result",
          "data": {
            "text/plain": [
              "                     Site Name Department  Year  Current Solar  \\\n",
              "0             PHX Building 139   Aviation  2020              0   \n",
              "1          Old Verde Park Cntr      Parks  2020              0   \n",
              "2   North Ranger Station - Old      Parks  2020              0   \n",
              "3   Lookout Mountain Trailhead      Parks  2020              0   \n",
              "4                 Laveen Basin      Parks  2020              0   \n",
              "..                         ...        ...   ...            ...   \n",
              "95     Historic Fire Station 8       Fire  2020              0   \n",
              "96                  Nueve Park      Parks  2020              0   \n",
              "97             Ma-Ha Tuak Park      Parks  2020              0   \n",
              "98        Bloomfield Warehouse      Parks  2020              0   \n",
              "99                La Cascada I    Housing  2020              0   \n",
              "\n",
              "   Electric Utility  Electricity Usage  Peak Electric Demand  \\\n",
              "0               APS                  1                     0   \n",
              "1               APS                 12                     0   \n",
              "2               APS                 77                     0   \n",
              "3               APS                242                     0   \n",
              "4               SRP                317                     0   \n",
              "..              ...                ...                   ...   \n",
              "95              APS              18214                     0   \n",
              "96              SRP              19229                   101   \n",
              "97              SRP              19883                    28   \n",
              "98              APS              19977                     0   \n",
              "99              APS              20508                     0   \n",
              "\n",
              "      Building Type   Building Area  Natural Gas Usage  Energy Use Intensity  \\\n",
              "0     REPAIRSERVICES           3616                  0                  0.00   \n",
              "1            UNKNOWN              0                  0                   NaN   \n",
              "2             OFFICE              0                  0                   NaN   \n",
              "3         OUTDOORREC              0                  0                   NaN   \n",
              "4               PARK              0                  0                   NaN   \n",
              "..               ...            ...                ...                   ...   \n",
              "95            OFFICE           2250                 56                 27.92   \n",
              "96              PARK              0                  0                   NaN   \n",
              "97              PARK              0                  0                   NaN   \n",
              "98  WAREHOUSE-UNREFR           2654                651                 48.17   \n",
              "99      MULTIHOUSING          55798                  0                  1.15   \n",
              "\n",
              "                 Address  Latitude  Longitude  \n",
              "0          2745 E Air Ln  33.44299 -112.02176  \n",
              "1     916 E Van Buren St  33.45205 -112.06179  \n",
              "2        11659 N 16th St  33.59485 -112.04768  \n",
              "3        15415 N 16th St  33.62720 -112.04820  \n",
              "4        6039 S 43rd Ave  33.39098 -112.14917  \n",
              "..                   ...       ...        ...  \n",
              "95    541 W Encanto Blvd  33.47275 -112.08255  \n",
              "96         4445 S 9th St  33.40521 -112.05937  \n",
              "97        9832 S 7th Ave  33.35721 -112.08417  \n",
              "98  3201 E Bloomfield Rd  33.59954 -112.01282  \n",
              "99        248 E Ruth Ave  33.56336 -112.06982  \n",
              "\n",
              "[100 rows x 14 columns]"
            ],
            "text/html": [
              "\n",
              "\n",
              "  <div id=\"df-01c4649d-f215-4508-88af-cec0df774186\">\n",
              "    <div class=\"colab-df-container\">\n",
              "      <div>\n",
              "<style scoped>\n",
              "    .dataframe tbody tr th:only-of-type {\n",
              "        vertical-align: middle;\n",
              "    }\n",
              "\n",
              "    .dataframe tbody tr th {\n",
              "        vertical-align: top;\n",
              "    }\n",
              "\n",
              "    .dataframe thead th {\n",
              "        text-align: right;\n",
              "    }\n",
              "</style>\n",
              "<table border=\"1\" class=\"dataframe\">\n",
              "  <thead>\n",
              "    <tr style=\"text-align: right;\">\n",
              "      <th></th>\n",
              "      <th>Site Name</th>\n",
              "      <th>Department</th>\n",
              "      <th>Year</th>\n",
              "      <th>Current Solar</th>\n",
              "      <th>Electric Utility</th>\n",
              "      <th>Electricity Usage</th>\n",
              "      <th>Peak Electric Demand</th>\n",
              "      <th>Building Type</th>\n",
              "      <th>Building Area</th>\n",
              "      <th>Natural Gas Usage</th>\n",
              "      <th>Energy Use Intensity</th>\n",
              "      <th>Address</th>\n",
              "      <th>Latitude</th>\n",
              "      <th>Longitude</th>\n",
              "    </tr>\n",
              "  </thead>\n",
              "  <tbody>\n",
              "    <tr>\n",
              "      <th>0</th>\n",
              "      <td>PHX Building 139</td>\n",
              "      <td>Aviation</td>\n",
              "      <td>2020</td>\n",
              "      <td>0</td>\n",
              "      <td>APS</td>\n",
              "      <td>1</td>\n",
              "      <td>0</td>\n",
              "      <td>REPAIRSERVICES</td>\n",
              "      <td>3616</td>\n",
              "      <td>0</td>\n",
              "      <td>0.00</td>\n",
              "      <td>2745 E Air Ln</td>\n",
              "      <td>33.44299</td>\n",
              "      <td>-112.02176</td>\n",
              "    </tr>\n",
              "    <tr>\n",
              "      <th>1</th>\n",
              "      <td>Old Verde Park Cntr</td>\n",
              "      <td>Parks</td>\n",
              "      <td>2020</td>\n",
              "      <td>0</td>\n",
              "      <td>APS</td>\n",
              "      <td>12</td>\n",
              "      <td>0</td>\n",
              "      <td>UNKNOWN</td>\n",
              "      <td>0</td>\n",
              "      <td>0</td>\n",
              "      <td>NaN</td>\n",
              "      <td>916 E Van Buren St</td>\n",
              "      <td>33.45205</td>\n",
              "      <td>-112.06179</td>\n",
              "    </tr>\n",
              "    <tr>\n",
              "      <th>2</th>\n",
              "      <td>North Ranger Station - Old</td>\n",
              "      <td>Parks</td>\n",
              "      <td>2020</td>\n",
              "      <td>0</td>\n",
              "      <td>APS</td>\n",
              "      <td>77</td>\n",
              "      <td>0</td>\n",
              "      <td>OFFICE</td>\n",
              "      <td>0</td>\n",
              "      <td>0</td>\n",
              "      <td>NaN</td>\n",
              "      <td>11659 N 16th St</td>\n",
              "      <td>33.59485</td>\n",
              "      <td>-112.04768</td>\n",
              "    </tr>\n",
              "    <tr>\n",
              "      <th>3</th>\n",
              "      <td>Lookout Mountain Trailhead</td>\n",
              "      <td>Parks</td>\n",
              "      <td>2020</td>\n",
              "      <td>0</td>\n",
              "      <td>APS</td>\n",
              "      <td>242</td>\n",
              "      <td>0</td>\n",
              "      <td>OUTDOORREC</td>\n",
              "      <td>0</td>\n",
              "      <td>0</td>\n",
              "      <td>NaN</td>\n",
              "      <td>15415 N 16th St</td>\n",
              "      <td>33.62720</td>\n",
              "      <td>-112.04820</td>\n",
              "    </tr>\n",
              "    <tr>\n",
              "      <th>4</th>\n",
              "      <td>Laveen Basin</td>\n",
              "      <td>Parks</td>\n",
              "      <td>2020</td>\n",
              "      <td>0</td>\n",
              "      <td>SRP</td>\n",
              "      <td>317</td>\n",
              "      <td>0</td>\n",
              "      <td>PARK</td>\n",
              "      <td>0</td>\n",
              "      <td>0</td>\n",
              "      <td>NaN</td>\n",
              "      <td>6039 S 43rd Ave</td>\n",
              "      <td>33.39098</td>\n",
              "      <td>-112.14917</td>\n",
              "    </tr>\n",
              "    <tr>\n",
              "      <th>...</th>\n",
              "      <td>...</td>\n",
              "      <td>...</td>\n",
              "      <td>...</td>\n",
              "      <td>...</td>\n",
              "      <td>...</td>\n",
              "      <td>...</td>\n",
              "      <td>...</td>\n",
              "      <td>...</td>\n",
              "      <td>...</td>\n",
              "      <td>...</td>\n",
              "      <td>...</td>\n",
              "      <td>...</td>\n",
              "      <td>...</td>\n",
              "      <td>...</td>\n",
              "    </tr>\n",
              "    <tr>\n",
              "      <th>95</th>\n",
              "      <td>Historic Fire Station 8</td>\n",
              "      <td>Fire</td>\n",
              "      <td>2020</td>\n",
              "      <td>0</td>\n",
              "      <td>APS</td>\n",
              "      <td>18214</td>\n",
              "      <td>0</td>\n",
              "      <td>OFFICE</td>\n",
              "      <td>2250</td>\n",
              "      <td>56</td>\n",
              "      <td>27.92</td>\n",
              "      <td>541 W Encanto Blvd</td>\n",
              "      <td>33.47275</td>\n",
              "      <td>-112.08255</td>\n",
              "    </tr>\n",
              "    <tr>\n",
              "      <th>96</th>\n",
              "      <td>Nueve Park</td>\n",
              "      <td>Parks</td>\n",
              "      <td>2020</td>\n",
              "      <td>0</td>\n",
              "      <td>SRP</td>\n",
              "      <td>19229</td>\n",
              "      <td>101</td>\n",
              "      <td>PARK</td>\n",
              "      <td>0</td>\n",
              "      <td>0</td>\n",
              "      <td>NaN</td>\n",
              "      <td>4445 S 9th St</td>\n",
              "      <td>33.40521</td>\n",
              "      <td>-112.05937</td>\n",
              "    </tr>\n",
              "    <tr>\n",
              "      <th>97</th>\n",
              "      <td>Ma-Ha Tuak Park</td>\n",
              "      <td>Parks</td>\n",
              "      <td>2020</td>\n",
              "      <td>0</td>\n",
              "      <td>SRP</td>\n",
              "      <td>19883</td>\n",
              "      <td>28</td>\n",
              "      <td>PARK</td>\n",
              "      <td>0</td>\n",
              "      <td>0</td>\n",
              "      <td>NaN</td>\n",
              "      <td>9832 S 7th Ave</td>\n",
              "      <td>33.35721</td>\n",
              "      <td>-112.08417</td>\n",
              "    </tr>\n",
              "    <tr>\n",
              "      <th>98</th>\n",
              "      <td>Bloomfield Warehouse</td>\n",
              "      <td>Parks</td>\n",
              "      <td>2020</td>\n",
              "      <td>0</td>\n",
              "      <td>APS</td>\n",
              "      <td>19977</td>\n",
              "      <td>0</td>\n",
              "      <td>WAREHOUSE-UNREFR</td>\n",
              "      <td>2654</td>\n",
              "      <td>651</td>\n",
              "      <td>48.17</td>\n",
              "      <td>3201 E Bloomfield Rd</td>\n",
              "      <td>33.59954</td>\n",
              "      <td>-112.01282</td>\n",
              "    </tr>\n",
              "    <tr>\n",
              "      <th>99</th>\n",
              "      <td>La Cascada I</td>\n",
              "      <td>Housing</td>\n",
              "      <td>2020</td>\n",
              "      <td>0</td>\n",
              "      <td>APS</td>\n",
              "      <td>20508</td>\n",
              "      <td>0</td>\n",
              "      <td>MULTIHOUSING</td>\n",
              "      <td>55798</td>\n",
              "      <td>0</td>\n",
              "      <td>1.15</td>\n",
              "      <td>248 E Ruth Ave</td>\n",
              "      <td>33.56336</td>\n",
              "      <td>-112.06982</td>\n",
              "    </tr>\n",
              "  </tbody>\n",
              "</table>\n",
              "<p>100 rows × 14 columns</p>\n",
              "</div>\n",
              "      <button class=\"colab-df-convert\" onclick=\"convertToInteractive('df-01c4649d-f215-4508-88af-cec0df774186')\"\n",
              "              title=\"Convert this dataframe to an interactive table.\"\n",
              "              style=\"display:none;\">\n",
              "\n",
              "  <svg xmlns=\"http://www.w3.org/2000/svg\" height=\"24px\"viewBox=\"0 0 24 24\"\n",
              "       width=\"24px\">\n",
              "    <path d=\"M0 0h24v24H0V0z\" fill=\"none\"/>\n",
              "    <path d=\"M18.56 5.44l.94 2.06.94-2.06 2.06-.94-2.06-.94-.94-2.06-.94 2.06-2.06.94zm-11 1L8.5 8.5l.94-2.06 2.06-.94-2.06-.94L8.5 2.5l-.94 2.06-2.06.94zm10 10l.94 2.06.94-2.06 2.06-.94-2.06-.94-.94-2.06-.94 2.06-2.06.94z\"/><path d=\"M17.41 7.96l-1.37-1.37c-.4-.4-.92-.59-1.43-.59-.52 0-1.04.2-1.43.59L10.3 9.45l-7.72 7.72c-.78.78-.78 2.05 0 2.83L4 21.41c.39.39.9.59 1.41.59.51 0 1.02-.2 1.41-.59l7.78-7.78 2.81-2.81c.8-.78.8-2.07 0-2.86zM5.41 20L4 18.59l7.72-7.72 1.47 1.35L5.41 20z\"/>\n",
              "  </svg>\n",
              "      </button>\n",
              "\n",
              "\n",
              "\n",
              "    <div id=\"df-6c72df06-977c-4698-ba70-6591bce4f70f\">\n",
              "      <button class=\"colab-df-quickchart\" onclick=\"quickchart('df-6c72df06-977c-4698-ba70-6591bce4f70f')\"\n",
              "              title=\"Suggest charts.\"\n",
              "              style=\"display:none;\">\n",
              "\n",
              "<svg xmlns=\"http://www.w3.org/2000/svg\" height=\"24px\"viewBox=\"0 0 24 24\"\n",
              "     width=\"24px\">\n",
              "    <g>\n",
              "        <path d=\"M19 3H5c-1.1 0-2 .9-2 2v14c0 1.1.9 2 2 2h14c1.1 0 2-.9 2-2V5c0-1.1-.9-2-2-2zM9 17H7v-7h2v7zm4 0h-2V7h2v10zm4 0h-2v-4h2v4z\"/>\n",
              "    </g>\n",
              "</svg>\n",
              "      </button>\n",
              "    </div>\n",
              "\n",
              "<style>\n",
              "  .colab-df-quickchart {\n",
              "    background-color: #E8F0FE;\n",
              "    border: none;\n",
              "    border-radius: 50%;\n",
              "    cursor: pointer;\n",
              "    display: none;\n",
              "    fill: #1967D2;\n",
              "    height: 32px;\n",
              "    padding: 0 0 0 0;\n",
              "    width: 32px;\n",
              "  }\n",
              "\n",
              "  .colab-df-quickchart:hover {\n",
              "    background-color: #E2EBFA;\n",
              "    box-shadow: 0px 1px 2px rgba(60, 64, 67, 0.3), 0px 1px 3px 1px rgba(60, 64, 67, 0.15);\n",
              "    fill: #174EA6;\n",
              "  }\n",
              "\n",
              "  [theme=dark] .colab-df-quickchart {\n",
              "    background-color: #3B4455;\n",
              "    fill: #D2E3FC;\n",
              "  }\n",
              "\n",
              "  [theme=dark] .colab-df-quickchart:hover {\n",
              "    background-color: #434B5C;\n",
              "    box-shadow: 0px 1px 3px 1px rgba(0, 0, 0, 0.15);\n",
              "    filter: drop-shadow(0px 1px 2px rgba(0, 0, 0, 0.3));\n",
              "    fill: #FFFFFF;\n",
              "  }\n",
              "</style>\n",
              "\n",
              "    <script>\n",
              "      async function quickchart(key) {\n",
              "        const containerElement = document.querySelector('#' + key);\n",
              "        const charts = await google.colab.kernel.invokeFunction(\n",
              "            'suggestCharts', [key], {});\n",
              "      }\n",
              "    </script>\n",
              "\n",
              "      <script>\n",
              "\n",
              "function displayQuickchartButton(domScope) {\n",
              "  let quickchartButtonEl =\n",
              "    domScope.querySelector('#df-6c72df06-977c-4698-ba70-6591bce4f70f button.colab-df-quickchart');\n",
              "  quickchartButtonEl.style.display =\n",
              "    google.colab.kernel.accessAllowed ? 'block' : 'none';\n",
              "}\n",
              "\n",
              "        displayQuickchartButton(document);\n",
              "      </script>\n",
              "      <style>\n",
              "    .colab-df-container {\n",
              "      display:flex;\n",
              "      flex-wrap:wrap;\n",
              "      gap: 12px;\n",
              "    }\n",
              "\n",
              "    .colab-df-convert {\n",
              "      background-color: #E8F0FE;\n",
              "      border: none;\n",
              "      border-radius: 50%;\n",
              "      cursor: pointer;\n",
              "      display: none;\n",
              "      fill: #1967D2;\n",
              "      height: 32px;\n",
              "      padding: 0 0 0 0;\n",
              "      width: 32px;\n",
              "    }\n",
              "\n",
              "    .colab-df-convert:hover {\n",
              "      background-color: #E2EBFA;\n",
              "      box-shadow: 0px 1px 2px rgba(60, 64, 67, 0.3), 0px 1px 3px 1px rgba(60, 64, 67, 0.15);\n",
              "      fill: #174EA6;\n",
              "    }\n",
              "\n",
              "    [theme=dark] .colab-df-convert {\n",
              "      background-color: #3B4455;\n",
              "      fill: #D2E3FC;\n",
              "    }\n",
              "\n",
              "    [theme=dark] .colab-df-convert:hover {\n",
              "      background-color: #434B5C;\n",
              "      box-shadow: 0px 1px 3px 1px rgba(0, 0, 0, 0.15);\n",
              "      filter: drop-shadow(0px 1px 2px rgba(0, 0, 0, 0.3));\n",
              "      fill: #FFFFFF;\n",
              "    }\n",
              "  </style>\n",
              "\n",
              "      <script>\n",
              "        const buttonEl =\n",
              "          document.querySelector('#df-01c4649d-f215-4508-88af-cec0df774186 button.colab-df-convert');\n",
              "        buttonEl.style.display =\n",
              "          google.colab.kernel.accessAllowed ? 'block' : 'none';\n",
              "\n",
              "        async function convertToInteractive(key) {\n",
              "          const element = document.querySelector('#df-01c4649d-f215-4508-88af-cec0df774186');\n",
              "          const dataTable =\n",
              "            await google.colab.kernel.invokeFunction('convertToInteractive',\n",
              "                                                     [key], {});\n",
              "          if (!dataTable) return;\n",
              "\n",
              "          const docLinkHtml = 'Like what you see? Visit the ' +\n",
              "            '<a target=\"_blank\" href=https://colab.research.google.com/notebooks/data_table.ipynb>data table notebook</a>'\n",
              "            + ' to learn more about interactive tables.';\n",
              "          element.innerHTML = '';\n",
              "          dataTable['output_type'] = 'display_data';\n",
              "          await google.colab.output.renderOutput(dataTable, element);\n",
              "          const docLink = document.createElement('div');\n",
              "          docLink.innerHTML = docLinkHtml;\n",
              "          element.appendChild(docLink);\n",
              "        }\n",
              "      </script>\n",
              "    </div>\n",
              "  </div>\n"
            ]
          },
          "metadata": {},
          "execution_count": 108
        }
      ]
    },
    {
      "cell_type": "code",
      "source": [
        "df_dict"
      ],
      "metadata": {
        "colab": {
          "base_uri": "https://localhost:8080/",
          "height": 488
        },
        "id": "JercJbeTIGxm",
        "outputId": "25529754-06ff-4bc5-b610-5adb79c11673"
      },
      "execution_count": null,
      "outputs": [
        {
          "output_type": "execute_result",
          "data": {
            "text/plain": [
              "                  column     type                             label  \\\n",
              "0              Site Name     text                         Site Name   \n",
              "1             Department     text                        Department   \n",
              "2                   Year     text                              Year   \n",
              "3          Current Solar  numeric                     Current Solar   \n",
              "4       Electric Utility     text                  Electric Utility   \n",
              "5      Electricity Usage  numeric           Electricity Usage (kWh)   \n",
              "6   Peak Electric Demand  numeric         Peak Electric Demand (kW)   \n",
              "7          Building Type     text                     Building Type   \n",
              "8          Building Area  numeric              Building Area (SqFt)   \n",
              "9      Natural Gas Usage  numeric         Natural Gas Usage (therm)   \n",
              "10  Energy Use Intensity  numeric  Energy Use Intensity (kBTU/sqft)   \n",
              "11               Address     text                           Address   \n",
              "12              Latitude     text                          Latitude   \n",
              "13             Longitude     text                         Longitude   \n",
              "\n",
              "                                          description  \n",
              "0                             Facility or group name.  \n",
              "1     Name of City department that operates facility.  \n",
              "2                       Calendar year of energy data.  \n",
              "3   Peak capacity of current solar array installed...  \n",
              "4          Utility that provides electricity to site.  \n",
              "5   Total annual electricity consumption at site i...  \n",
              "6   Maximum electricity demand in one hour as refl...  \n",
              "7     Type of facility as labeled by EPA Energy Star.  \n",
              "8                   Total area of building on record.  \n",
              "9   Total annual natural gas consumption at site i...  \n",
              "10  A common building efficiency metric used that ...  \n",
              "11                       Physical address of facility  \n",
              "12                 Geographic coordinate of facility.  \n",
              "13                 Geographic coordinate of facility.  "
            ],
            "text/html": [
              "\n",
              "\n",
              "  <div id=\"df-be3539e9-d570-466b-8084-de2ca94c19b1\">\n",
              "    <div class=\"colab-df-container\">\n",
              "      <div>\n",
              "<style scoped>\n",
              "    .dataframe tbody tr th:only-of-type {\n",
              "        vertical-align: middle;\n",
              "    }\n",
              "\n",
              "    .dataframe tbody tr th {\n",
              "        vertical-align: top;\n",
              "    }\n",
              "\n",
              "    .dataframe thead th {\n",
              "        text-align: right;\n",
              "    }\n",
              "</style>\n",
              "<table border=\"1\" class=\"dataframe\">\n",
              "  <thead>\n",
              "    <tr style=\"text-align: right;\">\n",
              "      <th></th>\n",
              "      <th>column</th>\n",
              "      <th>type</th>\n",
              "      <th>label</th>\n",
              "      <th>description</th>\n",
              "    </tr>\n",
              "  </thead>\n",
              "  <tbody>\n",
              "    <tr>\n",
              "      <th>0</th>\n",
              "      <td>Site Name</td>\n",
              "      <td>text</td>\n",
              "      <td>Site Name</td>\n",
              "      <td>Facility or group name.</td>\n",
              "    </tr>\n",
              "    <tr>\n",
              "      <th>1</th>\n",
              "      <td>Department</td>\n",
              "      <td>text</td>\n",
              "      <td>Department</td>\n",
              "      <td>Name of City department that operates facility.</td>\n",
              "    </tr>\n",
              "    <tr>\n",
              "      <th>2</th>\n",
              "      <td>Year</td>\n",
              "      <td>text</td>\n",
              "      <td>Year</td>\n",
              "      <td>Calendar year of energy data.</td>\n",
              "    </tr>\n",
              "    <tr>\n",
              "      <th>3</th>\n",
              "      <td>Current Solar</td>\n",
              "      <td>numeric</td>\n",
              "      <td>Current Solar</td>\n",
              "      <td>Peak capacity of current solar array installed...</td>\n",
              "    </tr>\n",
              "    <tr>\n",
              "      <th>4</th>\n",
              "      <td>Electric Utility</td>\n",
              "      <td>text</td>\n",
              "      <td>Electric Utility</td>\n",
              "      <td>Utility that provides electricity to site.</td>\n",
              "    </tr>\n",
              "    <tr>\n",
              "      <th>5</th>\n",
              "      <td>Electricity Usage</td>\n",
              "      <td>numeric</td>\n",
              "      <td>Electricity Usage (kWh)</td>\n",
              "      <td>Total annual electricity consumption at site i...</td>\n",
              "    </tr>\n",
              "    <tr>\n",
              "      <th>6</th>\n",
              "      <td>Peak Electric Demand</td>\n",
              "      <td>numeric</td>\n",
              "      <td>Peak Electric Demand (kW)</td>\n",
              "      <td>Maximum electricity demand in one hour as refl...</td>\n",
              "    </tr>\n",
              "    <tr>\n",
              "      <th>7</th>\n",
              "      <td>Building Type</td>\n",
              "      <td>text</td>\n",
              "      <td>Building Type</td>\n",
              "      <td>Type of facility as labeled by EPA Energy Star.</td>\n",
              "    </tr>\n",
              "    <tr>\n",
              "      <th>8</th>\n",
              "      <td>Building Area</td>\n",
              "      <td>numeric</td>\n",
              "      <td>Building Area (SqFt)</td>\n",
              "      <td>Total area of building on record.</td>\n",
              "    </tr>\n",
              "    <tr>\n",
              "      <th>9</th>\n",
              "      <td>Natural Gas Usage</td>\n",
              "      <td>numeric</td>\n",
              "      <td>Natural Gas Usage (therm)</td>\n",
              "      <td>Total annual natural gas consumption at site i...</td>\n",
              "    </tr>\n",
              "    <tr>\n",
              "      <th>10</th>\n",
              "      <td>Energy Use Intensity</td>\n",
              "      <td>numeric</td>\n",
              "      <td>Energy Use Intensity (kBTU/sqft)</td>\n",
              "      <td>A common building efficiency metric used that ...</td>\n",
              "    </tr>\n",
              "    <tr>\n",
              "      <th>11</th>\n",
              "      <td>Address</td>\n",
              "      <td>text</td>\n",
              "      <td>Address</td>\n",
              "      <td>Physical address of facility</td>\n",
              "    </tr>\n",
              "    <tr>\n",
              "      <th>12</th>\n",
              "      <td>Latitude</td>\n",
              "      <td>text</td>\n",
              "      <td>Latitude</td>\n",
              "      <td>Geographic coordinate of facility.</td>\n",
              "    </tr>\n",
              "    <tr>\n",
              "      <th>13</th>\n",
              "      <td>Longitude</td>\n",
              "      <td>text</td>\n",
              "      <td>Longitude</td>\n",
              "      <td>Geographic coordinate of facility.</td>\n",
              "    </tr>\n",
              "  </tbody>\n",
              "</table>\n",
              "</div>\n",
              "      <button class=\"colab-df-convert\" onclick=\"convertToInteractive('df-be3539e9-d570-466b-8084-de2ca94c19b1')\"\n",
              "              title=\"Convert this dataframe to an interactive table.\"\n",
              "              style=\"display:none;\">\n",
              "\n",
              "  <svg xmlns=\"http://www.w3.org/2000/svg\" height=\"24px\"viewBox=\"0 0 24 24\"\n",
              "       width=\"24px\">\n",
              "    <path d=\"M0 0h24v24H0V0z\" fill=\"none\"/>\n",
              "    <path d=\"M18.56 5.44l.94 2.06.94-2.06 2.06-.94-2.06-.94-.94-2.06-.94 2.06-2.06.94zm-11 1L8.5 8.5l.94-2.06 2.06-.94-2.06-.94L8.5 2.5l-.94 2.06-2.06.94zm10 10l.94 2.06.94-2.06 2.06-.94-2.06-.94-.94-2.06-.94 2.06-2.06.94z\"/><path d=\"M17.41 7.96l-1.37-1.37c-.4-.4-.92-.59-1.43-.59-.52 0-1.04.2-1.43.59L10.3 9.45l-7.72 7.72c-.78.78-.78 2.05 0 2.83L4 21.41c.39.39.9.59 1.41.59.51 0 1.02-.2 1.41-.59l7.78-7.78 2.81-2.81c.8-.78.8-2.07 0-2.86zM5.41 20L4 18.59l7.72-7.72 1.47 1.35L5.41 20z\"/>\n",
              "  </svg>\n",
              "      </button>\n",
              "\n",
              "\n",
              "\n",
              "    <div id=\"df-f2e6f099-4a4e-4bb7-85e7-23369b0ddcae\">\n",
              "      <button class=\"colab-df-quickchart\" onclick=\"quickchart('df-f2e6f099-4a4e-4bb7-85e7-23369b0ddcae')\"\n",
              "              title=\"Suggest charts.\"\n",
              "              style=\"display:none;\">\n",
              "\n",
              "<svg xmlns=\"http://www.w3.org/2000/svg\" height=\"24px\"viewBox=\"0 0 24 24\"\n",
              "     width=\"24px\">\n",
              "    <g>\n",
              "        <path d=\"M19 3H5c-1.1 0-2 .9-2 2v14c0 1.1.9 2 2 2h14c1.1 0 2-.9 2-2V5c0-1.1-.9-2-2-2zM9 17H7v-7h2v7zm4 0h-2V7h2v10zm4 0h-2v-4h2v4z\"/>\n",
              "    </g>\n",
              "</svg>\n",
              "      </button>\n",
              "    </div>\n",
              "\n",
              "<style>\n",
              "  .colab-df-quickchart {\n",
              "    background-color: #E8F0FE;\n",
              "    border: none;\n",
              "    border-radius: 50%;\n",
              "    cursor: pointer;\n",
              "    display: none;\n",
              "    fill: #1967D2;\n",
              "    height: 32px;\n",
              "    padding: 0 0 0 0;\n",
              "    width: 32px;\n",
              "  }\n",
              "\n",
              "  .colab-df-quickchart:hover {\n",
              "    background-color: #E2EBFA;\n",
              "    box-shadow: 0px 1px 2px rgba(60, 64, 67, 0.3), 0px 1px 3px 1px rgba(60, 64, 67, 0.15);\n",
              "    fill: #174EA6;\n",
              "  }\n",
              "\n",
              "  [theme=dark] .colab-df-quickchart {\n",
              "    background-color: #3B4455;\n",
              "    fill: #D2E3FC;\n",
              "  }\n",
              "\n",
              "  [theme=dark] .colab-df-quickchart:hover {\n",
              "    background-color: #434B5C;\n",
              "    box-shadow: 0px 1px 3px 1px rgba(0, 0, 0, 0.15);\n",
              "    filter: drop-shadow(0px 1px 2px rgba(0, 0, 0, 0.3));\n",
              "    fill: #FFFFFF;\n",
              "  }\n",
              "</style>\n",
              "\n",
              "    <script>\n",
              "      async function quickchart(key) {\n",
              "        const containerElement = document.querySelector('#' + key);\n",
              "        const charts = await google.colab.kernel.invokeFunction(\n",
              "            'suggestCharts', [key], {});\n",
              "      }\n",
              "    </script>\n",
              "\n",
              "      <script>\n",
              "\n",
              "function displayQuickchartButton(domScope) {\n",
              "  let quickchartButtonEl =\n",
              "    domScope.querySelector('#df-f2e6f099-4a4e-4bb7-85e7-23369b0ddcae button.colab-df-quickchart');\n",
              "  quickchartButtonEl.style.display =\n",
              "    google.colab.kernel.accessAllowed ? 'block' : 'none';\n",
              "}\n",
              "\n",
              "        displayQuickchartButton(document);\n",
              "      </script>\n",
              "      <style>\n",
              "    .colab-df-container {\n",
              "      display:flex;\n",
              "      flex-wrap:wrap;\n",
              "      gap: 12px;\n",
              "    }\n",
              "\n",
              "    .colab-df-convert {\n",
              "      background-color: #E8F0FE;\n",
              "      border: none;\n",
              "      border-radius: 50%;\n",
              "      cursor: pointer;\n",
              "      display: none;\n",
              "      fill: #1967D2;\n",
              "      height: 32px;\n",
              "      padding: 0 0 0 0;\n",
              "      width: 32px;\n",
              "    }\n",
              "\n",
              "    .colab-df-convert:hover {\n",
              "      background-color: #E2EBFA;\n",
              "      box-shadow: 0px 1px 2px rgba(60, 64, 67, 0.3), 0px 1px 3px 1px rgba(60, 64, 67, 0.15);\n",
              "      fill: #174EA6;\n",
              "    }\n",
              "\n",
              "    [theme=dark] .colab-df-convert {\n",
              "      background-color: #3B4455;\n",
              "      fill: #D2E3FC;\n",
              "    }\n",
              "\n",
              "    [theme=dark] .colab-df-convert:hover {\n",
              "      background-color: #434B5C;\n",
              "      box-shadow: 0px 1px 3px 1px rgba(0, 0, 0, 0.15);\n",
              "      filter: drop-shadow(0px 1px 2px rgba(0, 0, 0, 0.3));\n",
              "      fill: #FFFFFF;\n",
              "    }\n",
              "  </style>\n",
              "\n",
              "      <script>\n",
              "        const buttonEl =\n",
              "          document.querySelector('#df-be3539e9-d570-466b-8084-de2ca94c19b1 button.colab-df-convert');\n",
              "        buttonEl.style.display =\n",
              "          google.colab.kernel.accessAllowed ? 'block' : 'none';\n",
              "\n",
              "        async function convertToInteractive(key) {\n",
              "          const element = document.querySelector('#df-be3539e9-d570-466b-8084-de2ca94c19b1');\n",
              "          const dataTable =\n",
              "            await google.colab.kernel.invokeFunction('convertToInteractive',\n",
              "                                                     [key], {});\n",
              "          if (!dataTable) return;\n",
              "\n",
              "          const docLinkHtml = 'Like what you see? Visit the ' +\n",
              "            '<a target=\"_blank\" href=https://colab.research.google.com/notebooks/data_table.ipynb>data table notebook</a>'\n",
              "            + ' to learn more about interactive tables.';\n",
              "          element.innerHTML = '';\n",
              "          dataTable['output_type'] = 'display_data';\n",
              "          await google.colab.output.renderOutput(dataTable, element);\n",
              "          const docLink = document.createElement('div');\n",
              "          docLink.innerHTML = docLinkHtml;\n",
              "          element.appendChild(docLink);\n",
              "        }\n",
              "      </script>\n",
              "    </div>\n",
              "  </div>\n"
            ]
          },
          "metadata": {},
          "execution_count": 109
        }
      ]
    },
    {
      "cell_type": "markdown",
      "source": [
        "# data exploration\n"
      ],
      "metadata": {
        "id": "gtvW9W6uIN8g"
      }
    },
    {
      "cell_type": "code",
      "source": [
        "df.info()"
      ],
      "metadata": {
        "colab": {
          "base_uri": "https://localhost:8080/"
        },
        "id": "h0dZ12BwIKMe",
        "outputId": "19754cb9-310f-44da-d191-94e4f99d0836"
      },
      "execution_count": null,
      "outputs": [
        {
          "output_type": "stream",
          "name": "stdout",
          "text": [
            "<class 'pandas.core.frame.DataFrame'>\n",
            "RangeIndex: 503 entries, 0 to 502\n",
            "Data columns (total 14 columns):\n",
            " #   Column                Non-Null Count  Dtype  \n",
            "---  ------                --------------  -----  \n",
            " 0   Site Name             503 non-null    object \n",
            " 1   Department            503 non-null    object \n",
            " 2   Year                  503 non-null    int64  \n",
            " 3   Current Solar         503 non-null    int64  \n",
            " 4   Electric Utility      503 non-null    object \n",
            " 5   Electricity Usage     503 non-null    int64  \n",
            " 6   Peak Electric Demand  503 non-null    int64  \n",
            " 7    Building Type        502 non-null    object \n",
            " 8   Building Area         503 non-null    int64  \n",
            " 9   Natural Gas Usage     503 non-null    int64  \n",
            " 10  Energy Use Intensity  287 non-null    float64\n",
            " 11  Address               502 non-null    object \n",
            " 12  Latitude              489 non-null    float64\n",
            " 13  Longitude             489 non-null    float64\n",
            "dtypes: float64(3), int64(6), object(5)\n",
            "memory usage: 55.1+ KB\n"
          ]
        }
      ]
    },
    {
      "cell_type": "code",
      "source": [
        "df.describe()"
      ],
      "metadata": {
        "colab": {
          "base_uri": "https://localhost:8080/",
          "height": 361
        },
        "id": "iO4nF6qtIpc5",
        "outputId": "bcaf9662-bdc0-495e-f6b0-137796ab16ed"
      },
      "execution_count": null,
      "outputs": [
        {
          "output_type": "execute_result",
          "data": {
            "text/plain": [
              "         Year  Current Solar  Electricity Usage  Peak Electric Demand  \\\n",
              "count   503.0     503.000000       5.030000e+02            503.000000   \n",
              "mean   2020.0      33.222664       1.183953e+06            191.411531   \n",
              "std       0.0     389.039560       1.267330e+07           1107.928315   \n",
              "min    2020.0       0.000000       1.000000e+00              0.000000   \n",
              "25%    2020.0       0.000000       2.968400e+04              0.000000   \n",
              "50%    2020.0       0.000000       9.064000e+04             37.000000   \n",
              "75%    2020.0       0.000000       2.286480e+05            103.000000   \n",
              "max    2020.0    7500.000000       2.713631e+08          22957.000000   \n",
              "\n",
              "       Building Area  Natural Gas Usage  Energy Use Intensity    Latitude  \\\n",
              "count   5.030000e+02         503.000000            287.000000  489.000000   \n",
              "mean    2.730766e+04        2117.711730             81.129303   33.505784   \n",
              "std     1.364830e+05       17238.074255            195.942631    0.101549   \n",
              "min     0.000000e+00           0.000000              0.000000   33.291660   \n",
              "25%     0.000000e+00           0.000000             28.750000   33.438240   \n",
              "50%     3.600000e+03           0.000000             44.120000   33.471410   \n",
              "75%     1.349950e+04          99.000000             68.255000   33.582570   \n",
              "max     1.918732e+06      297702.000000           2055.030000   33.806080   \n",
              "\n",
              "        Longitude  \n",
              "count  489.000000  \n",
              "mean  -112.071781  \n",
              "std      0.061346  \n",
              "min   -112.288850  \n",
              "25%   -112.107440  \n",
              "50%   -112.071870  \n",
              "75%   -112.029420  \n",
              "max   -111.746200  "
            ],
            "text/html": [
              "\n",
              "\n",
              "  <div id=\"df-efda46e7-174a-4345-979c-9fafd80a6510\">\n",
              "    <div class=\"colab-df-container\">\n",
              "      <div>\n",
              "<style scoped>\n",
              "    .dataframe tbody tr th:only-of-type {\n",
              "        vertical-align: middle;\n",
              "    }\n",
              "\n",
              "    .dataframe tbody tr th {\n",
              "        vertical-align: top;\n",
              "    }\n",
              "\n",
              "    .dataframe thead th {\n",
              "        text-align: right;\n",
              "    }\n",
              "</style>\n",
              "<table border=\"1\" class=\"dataframe\">\n",
              "  <thead>\n",
              "    <tr style=\"text-align: right;\">\n",
              "      <th></th>\n",
              "      <th>Year</th>\n",
              "      <th>Current Solar</th>\n",
              "      <th>Electricity Usage</th>\n",
              "      <th>Peak Electric Demand</th>\n",
              "      <th>Building Area</th>\n",
              "      <th>Natural Gas Usage</th>\n",
              "      <th>Energy Use Intensity</th>\n",
              "      <th>Latitude</th>\n",
              "      <th>Longitude</th>\n",
              "    </tr>\n",
              "  </thead>\n",
              "  <tbody>\n",
              "    <tr>\n",
              "      <th>count</th>\n",
              "      <td>503.0</td>\n",
              "      <td>503.000000</td>\n",
              "      <td>5.030000e+02</td>\n",
              "      <td>503.000000</td>\n",
              "      <td>5.030000e+02</td>\n",
              "      <td>503.000000</td>\n",
              "      <td>287.000000</td>\n",
              "      <td>489.000000</td>\n",
              "      <td>489.000000</td>\n",
              "    </tr>\n",
              "    <tr>\n",
              "      <th>mean</th>\n",
              "      <td>2020.0</td>\n",
              "      <td>33.222664</td>\n",
              "      <td>1.183953e+06</td>\n",
              "      <td>191.411531</td>\n",
              "      <td>2.730766e+04</td>\n",
              "      <td>2117.711730</td>\n",
              "      <td>81.129303</td>\n",
              "      <td>33.505784</td>\n",
              "      <td>-112.071781</td>\n",
              "    </tr>\n",
              "    <tr>\n",
              "      <th>std</th>\n",
              "      <td>0.0</td>\n",
              "      <td>389.039560</td>\n",
              "      <td>1.267330e+07</td>\n",
              "      <td>1107.928315</td>\n",
              "      <td>1.364830e+05</td>\n",
              "      <td>17238.074255</td>\n",
              "      <td>195.942631</td>\n",
              "      <td>0.101549</td>\n",
              "      <td>0.061346</td>\n",
              "    </tr>\n",
              "    <tr>\n",
              "      <th>min</th>\n",
              "      <td>2020.0</td>\n",
              "      <td>0.000000</td>\n",
              "      <td>1.000000e+00</td>\n",
              "      <td>0.000000</td>\n",
              "      <td>0.000000e+00</td>\n",
              "      <td>0.000000</td>\n",
              "      <td>0.000000</td>\n",
              "      <td>33.291660</td>\n",
              "      <td>-112.288850</td>\n",
              "    </tr>\n",
              "    <tr>\n",
              "      <th>25%</th>\n",
              "      <td>2020.0</td>\n",
              "      <td>0.000000</td>\n",
              "      <td>2.968400e+04</td>\n",
              "      <td>0.000000</td>\n",
              "      <td>0.000000e+00</td>\n",
              "      <td>0.000000</td>\n",
              "      <td>28.750000</td>\n",
              "      <td>33.438240</td>\n",
              "      <td>-112.107440</td>\n",
              "    </tr>\n",
              "    <tr>\n",
              "      <th>50%</th>\n",
              "      <td>2020.0</td>\n",
              "      <td>0.000000</td>\n",
              "      <td>9.064000e+04</td>\n",
              "      <td>37.000000</td>\n",
              "      <td>3.600000e+03</td>\n",
              "      <td>0.000000</td>\n",
              "      <td>44.120000</td>\n",
              "      <td>33.471410</td>\n",
              "      <td>-112.071870</td>\n",
              "    </tr>\n",
              "    <tr>\n",
              "      <th>75%</th>\n",
              "      <td>2020.0</td>\n",
              "      <td>0.000000</td>\n",
              "      <td>2.286480e+05</td>\n",
              "      <td>103.000000</td>\n",
              "      <td>1.349950e+04</td>\n",
              "      <td>99.000000</td>\n",
              "      <td>68.255000</td>\n",
              "      <td>33.582570</td>\n",
              "      <td>-112.029420</td>\n",
              "    </tr>\n",
              "    <tr>\n",
              "      <th>max</th>\n",
              "      <td>2020.0</td>\n",
              "      <td>7500.000000</td>\n",
              "      <td>2.713631e+08</td>\n",
              "      <td>22957.000000</td>\n",
              "      <td>1.918732e+06</td>\n",
              "      <td>297702.000000</td>\n",
              "      <td>2055.030000</td>\n",
              "      <td>33.806080</td>\n",
              "      <td>-111.746200</td>\n",
              "    </tr>\n",
              "  </tbody>\n",
              "</table>\n",
              "</div>\n",
              "      <button class=\"colab-df-convert\" onclick=\"convertToInteractive('df-efda46e7-174a-4345-979c-9fafd80a6510')\"\n",
              "              title=\"Convert this dataframe to an interactive table.\"\n",
              "              style=\"display:none;\">\n",
              "\n",
              "  <svg xmlns=\"http://www.w3.org/2000/svg\" height=\"24px\"viewBox=\"0 0 24 24\"\n",
              "       width=\"24px\">\n",
              "    <path d=\"M0 0h24v24H0V0z\" fill=\"none\"/>\n",
              "    <path d=\"M18.56 5.44l.94 2.06.94-2.06 2.06-.94-2.06-.94-.94-2.06-.94 2.06-2.06.94zm-11 1L8.5 8.5l.94-2.06 2.06-.94-2.06-.94L8.5 2.5l-.94 2.06-2.06.94zm10 10l.94 2.06.94-2.06 2.06-.94-2.06-.94-.94-2.06-.94 2.06-2.06.94z\"/><path d=\"M17.41 7.96l-1.37-1.37c-.4-.4-.92-.59-1.43-.59-.52 0-1.04.2-1.43.59L10.3 9.45l-7.72 7.72c-.78.78-.78 2.05 0 2.83L4 21.41c.39.39.9.59 1.41.59.51 0 1.02-.2 1.41-.59l7.78-7.78 2.81-2.81c.8-.78.8-2.07 0-2.86zM5.41 20L4 18.59l7.72-7.72 1.47 1.35L5.41 20z\"/>\n",
              "  </svg>\n",
              "      </button>\n",
              "\n",
              "\n",
              "\n",
              "    <div id=\"df-8c2d8ced-64f0-4384-b522-f7291c03dc0c\">\n",
              "      <button class=\"colab-df-quickchart\" onclick=\"quickchart('df-8c2d8ced-64f0-4384-b522-f7291c03dc0c')\"\n",
              "              title=\"Suggest charts.\"\n",
              "              style=\"display:none;\">\n",
              "\n",
              "<svg xmlns=\"http://www.w3.org/2000/svg\" height=\"24px\"viewBox=\"0 0 24 24\"\n",
              "     width=\"24px\">\n",
              "    <g>\n",
              "        <path d=\"M19 3H5c-1.1 0-2 .9-2 2v14c0 1.1.9 2 2 2h14c1.1 0 2-.9 2-2V5c0-1.1-.9-2-2-2zM9 17H7v-7h2v7zm4 0h-2V7h2v10zm4 0h-2v-4h2v4z\"/>\n",
              "    </g>\n",
              "</svg>\n",
              "      </button>\n",
              "    </div>\n",
              "\n",
              "<style>\n",
              "  .colab-df-quickchart {\n",
              "    background-color: #E8F0FE;\n",
              "    border: none;\n",
              "    border-radius: 50%;\n",
              "    cursor: pointer;\n",
              "    display: none;\n",
              "    fill: #1967D2;\n",
              "    height: 32px;\n",
              "    padding: 0 0 0 0;\n",
              "    width: 32px;\n",
              "  }\n",
              "\n",
              "  .colab-df-quickchart:hover {\n",
              "    background-color: #E2EBFA;\n",
              "    box-shadow: 0px 1px 2px rgba(60, 64, 67, 0.3), 0px 1px 3px 1px rgba(60, 64, 67, 0.15);\n",
              "    fill: #174EA6;\n",
              "  }\n",
              "\n",
              "  [theme=dark] .colab-df-quickchart {\n",
              "    background-color: #3B4455;\n",
              "    fill: #D2E3FC;\n",
              "  }\n",
              "\n",
              "  [theme=dark] .colab-df-quickchart:hover {\n",
              "    background-color: #434B5C;\n",
              "    box-shadow: 0px 1px 3px 1px rgba(0, 0, 0, 0.15);\n",
              "    filter: drop-shadow(0px 1px 2px rgba(0, 0, 0, 0.3));\n",
              "    fill: #FFFFFF;\n",
              "  }\n",
              "</style>\n",
              "\n",
              "    <script>\n",
              "      async function quickchart(key) {\n",
              "        const containerElement = document.querySelector('#' + key);\n",
              "        const charts = await google.colab.kernel.invokeFunction(\n",
              "            'suggestCharts', [key], {});\n",
              "      }\n",
              "    </script>\n",
              "\n",
              "      <script>\n",
              "\n",
              "function displayQuickchartButton(domScope) {\n",
              "  let quickchartButtonEl =\n",
              "    domScope.querySelector('#df-8c2d8ced-64f0-4384-b522-f7291c03dc0c button.colab-df-quickchart');\n",
              "  quickchartButtonEl.style.display =\n",
              "    google.colab.kernel.accessAllowed ? 'block' : 'none';\n",
              "}\n",
              "\n",
              "        displayQuickchartButton(document);\n",
              "      </script>\n",
              "      <style>\n",
              "    .colab-df-container {\n",
              "      display:flex;\n",
              "      flex-wrap:wrap;\n",
              "      gap: 12px;\n",
              "    }\n",
              "\n",
              "    .colab-df-convert {\n",
              "      background-color: #E8F0FE;\n",
              "      border: none;\n",
              "      border-radius: 50%;\n",
              "      cursor: pointer;\n",
              "      display: none;\n",
              "      fill: #1967D2;\n",
              "      height: 32px;\n",
              "      padding: 0 0 0 0;\n",
              "      width: 32px;\n",
              "    }\n",
              "\n",
              "    .colab-df-convert:hover {\n",
              "      background-color: #E2EBFA;\n",
              "      box-shadow: 0px 1px 2px rgba(60, 64, 67, 0.3), 0px 1px 3px 1px rgba(60, 64, 67, 0.15);\n",
              "      fill: #174EA6;\n",
              "    }\n",
              "\n",
              "    [theme=dark] .colab-df-convert {\n",
              "      background-color: #3B4455;\n",
              "      fill: #D2E3FC;\n",
              "    }\n",
              "\n",
              "    [theme=dark] .colab-df-convert:hover {\n",
              "      background-color: #434B5C;\n",
              "      box-shadow: 0px 1px 3px 1px rgba(0, 0, 0, 0.15);\n",
              "      filter: drop-shadow(0px 1px 2px rgba(0, 0, 0, 0.3));\n",
              "      fill: #FFFFFF;\n",
              "    }\n",
              "  </style>\n",
              "\n",
              "      <script>\n",
              "        const buttonEl =\n",
              "          document.querySelector('#df-efda46e7-174a-4345-979c-9fafd80a6510 button.colab-df-convert');\n",
              "        buttonEl.style.display =\n",
              "          google.colab.kernel.accessAllowed ? 'block' : 'none';\n",
              "\n",
              "        async function convertToInteractive(key) {\n",
              "          const element = document.querySelector('#df-efda46e7-174a-4345-979c-9fafd80a6510');\n",
              "          const dataTable =\n",
              "            await google.colab.kernel.invokeFunction('convertToInteractive',\n",
              "                                                     [key], {});\n",
              "          if (!dataTable) return;\n",
              "\n",
              "          const docLinkHtml = 'Like what you see? Visit the ' +\n",
              "            '<a target=\"_blank\" href=https://colab.research.google.com/notebooks/data_table.ipynb>data table notebook</a>'\n",
              "            + ' to learn more about interactive tables.';\n",
              "          element.innerHTML = '';\n",
              "          dataTable['output_type'] = 'display_data';\n",
              "          await google.colab.output.renderOutput(dataTable, element);\n",
              "          const docLink = document.createElement('div');\n",
              "          docLink.innerHTML = docLinkHtml;\n",
              "          element.appendChild(docLink);\n",
              "        }\n",
              "      </script>\n",
              "    </div>\n",
              "  </div>\n"
            ]
          },
          "metadata": {},
          "execution_count": 111
        }
      ]
    },
    {
      "cell_type": "code",
      "source": [
        "df.describe(include='all')"
      ],
      "metadata": {
        "colab": {
          "base_uri": "https://localhost:8080/",
          "height": 545
        },
        "id": "bOK_GX40ISq7",
        "outputId": "307ff2b7-d134-462c-aef9-f8be380d9d5e"
      },
      "execution_count": null,
      "outputs": [
        {
          "output_type": "execute_result",
          "data": {
            "text/plain": [
              "                Site Name Department    Year  Current Solar Electric Utility  \\\n",
              "count                 503        503   503.0     503.000000              503   \n",
              "unique                500         18     NaN            NaN                3   \n",
              "top     19th Ave Landfill      Parks     NaN            NaN              APS   \n",
              "freq                    2        220     NaN            NaN              355   \n",
              "mean                  NaN        NaN  2020.0      33.222664              NaN   \n",
              "std                   NaN        NaN     0.0     389.039560              NaN   \n",
              "min                   NaN        NaN  2020.0       0.000000              NaN   \n",
              "25%                   NaN        NaN  2020.0       0.000000              NaN   \n",
              "50%                   NaN        NaN  2020.0       0.000000              NaN   \n",
              "75%                   NaN        NaN  2020.0       0.000000              NaN   \n",
              "max                   NaN        NaN  2020.0    7500.000000              NaN   \n",
              "\n",
              "        Electricity Usage  Peak Electric Demand  Building Type   \\\n",
              "count        5.030000e+02            503.000000             502   \n",
              "unique                NaN                   NaN              54   \n",
              "top                   NaN                   NaN            PARK   \n",
              "freq                  NaN                   NaN             126   \n",
              "mean         1.183953e+06            191.411531             NaN   \n",
              "std          1.267330e+07           1107.928315             NaN   \n",
              "min          1.000000e+00              0.000000             NaN   \n",
              "25%          2.968400e+04              0.000000             NaN   \n",
              "50%          9.064000e+04             37.000000             NaN   \n",
              "75%          2.286480e+05            103.000000             NaN   \n",
              "max          2.713631e+08          22957.000000             NaN   \n",
              "\n",
              "        Building Area  Natural Gas Usage  Energy Use Intensity  \\\n",
              "count    5.030000e+02         503.000000            287.000000   \n",
              "unique            NaN                NaN                   NaN   \n",
              "top               NaN                NaN                   NaN   \n",
              "freq              NaN                NaN                   NaN   \n",
              "mean     2.730766e+04        2117.711730             81.129303   \n",
              "std      1.364830e+05       17238.074255            195.942631   \n",
              "min      0.000000e+00           0.000000              0.000000   \n",
              "25%      0.000000e+00           0.000000             28.750000   \n",
              "50%      3.600000e+03           0.000000             44.120000   \n",
              "75%      1.349950e+04          99.000000             68.255000   \n",
              "max      1.918732e+06      297702.000000           2055.030000   \n",
              "\n",
              "                     Address    Latitude   Longitude  \n",
              "count                    502  489.000000  489.000000  \n",
              "unique                   450         NaN         NaN  \n",
              "top     702 W Deer Valley Dr         NaN         NaN  \n",
              "freq                       9         NaN         NaN  \n",
              "mean                     NaN   33.505784 -112.071781  \n",
              "std                      NaN    0.101549    0.061346  \n",
              "min                      NaN   33.291660 -112.288850  \n",
              "25%                      NaN   33.438240 -112.107440  \n",
              "50%                      NaN   33.471410 -112.071870  \n",
              "75%                      NaN   33.582570 -112.029420  \n",
              "max                      NaN   33.806080 -111.746200  "
            ],
            "text/html": [
              "\n",
              "\n",
              "  <div id=\"df-edc266f8-b3ab-42bb-af31-7fb3e58861cc\">\n",
              "    <div class=\"colab-df-container\">\n",
              "      <div>\n",
              "<style scoped>\n",
              "    .dataframe tbody tr th:only-of-type {\n",
              "        vertical-align: middle;\n",
              "    }\n",
              "\n",
              "    .dataframe tbody tr th {\n",
              "        vertical-align: top;\n",
              "    }\n",
              "\n",
              "    .dataframe thead th {\n",
              "        text-align: right;\n",
              "    }\n",
              "</style>\n",
              "<table border=\"1\" class=\"dataframe\">\n",
              "  <thead>\n",
              "    <tr style=\"text-align: right;\">\n",
              "      <th></th>\n",
              "      <th>Site Name</th>\n",
              "      <th>Department</th>\n",
              "      <th>Year</th>\n",
              "      <th>Current Solar</th>\n",
              "      <th>Electric Utility</th>\n",
              "      <th>Electricity Usage</th>\n",
              "      <th>Peak Electric Demand</th>\n",
              "      <th>Building Type</th>\n",
              "      <th>Building Area</th>\n",
              "      <th>Natural Gas Usage</th>\n",
              "      <th>Energy Use Intensity</th>\n",
              "      <th>Address</th>\n",
              "      <th>Latitude</th>\n",
              "      <th>Longitude</th>\n",
              "    </tr>\n",
              "  </thead>\n",
              "  <tbody>\n",
              "    <tr>\n",
              "      <th>count</th>\n",
              "      <td>503</td>\n",
              "      <td>503</td>\n",
              "      <td>503.0</td>\n",
              "      <td>503.000000</td>\n",
              "      <td>503</td>\n",
              "      <td>5.030000e+02</td>\n",
              "      <td>503.000000</td>\n",
              "      <td>502</td>\n",
              "      <td>5.030000e+02</td>\n",
              "      <td>503.000000</td>\n",
              "      <td>287.000000</td>\n",
              "      <td>502</td>\n",
              "      <td>489.000000</td>\n",
              "      <td>489.000000</td>\n",
              "    </tr>\n",
              "    <tr>\n",
              "      <th>unique</th>\n",
              "      <td>500</td>\n",
              "      <td>18</td>\n",
              "      <td>NaN</td>\n",
              "      <td>NaN</td>\n",
              "      <td>3</td>\n",
              "      <td>NaN</td>\n",
              "      <td>NaN</td>\n",
              "      <td>54</td>\n",
              "      <td>NaN</td>\n",
              "      <td>NaN</td>\n",
              "      <td>NaN</td>\n",
              "      <td>450</td>\n",
              "      <td>NaN</td>\n",
              "      <td>NaN</td>\n",
              "    </tr>\n",
              "    <tr>\n",
              "      <th>top</th>\n",
              "      <td>19th Ave Landfill</td>\n",
              "      <td>Parks</td>\n",
              "      <td>NaN</td>\n",
              "      <td>NaN</td>\n",
              "      <td>APS</td>\n",
              "      <td>NaN</td>\n",
              "      <td>NaN</td>\n",
              "      <td>PARK</td>\n",
              "      <td>NaN</td>\n",
              "      <td>NaN</td>\n",
              "      <td>NaN</td>\n",
              "      <td>702 W Deer Valley Dr</td>\n",
              "      <td>NaN</td>\n",
              "      <td>NaN</td>\n",
              "    </tr>\n",
              "    <tr>\n",
              "      <th>freq</th>\n",
              "      <td>2</td>\n",
              "      <td>220</td>\n",
              "      <td>NaN</td>\n",
              "      <td>NaN</td>\n",
              "      <td>355</td>\n",
              "      <td>NaN</td>\n",
              "      <td>NaN</td>\n",
              "      <td>126</td>\n",
              "      <td>NaN</td>\n",
              "      <td>NaN</td>\n",
              "      <td>NaN</td>\n",
              "      <td>9</td>\n",
              "      <td>NaN</td>\n",
              "      <td>NaN</td>\n",
              "    </tr>\n",
              "    <tr>\n",
              "      <th>mean</th>\n",
              "      <td>NaN</td>\n",
              "      <td>NaN</td>\n",
              "      <td>2020.0</td>\n",
              "      <td>33.222664</td>\n",
              "      <td>NaN</td>\n",
              "      <td>1.183953e+06</td>\n",
              "      <td>191.411531</td>\n",
              "      <td>NaN</td>\n",
              "      <td>2.730766e+04</td>\n",
              "      <td>2117.711730</td>\n",
              "      <td>81.129303</td>\n",
              "      <td>NaN</td>\n",
              "      <td>33.505784</td>\n",
              "      <td>-112.071781</td>\n",
              "    </tr>\n",
              "    <tr>\n",
              "      <th>std</th>\n",
              "      <td>NaN</td>\n",
              "      <td>NaN</td>\n",
              "      <td>0.0</td>\n",
              "      <td>389.039560</td>\n",
              "      <td>NaN</td>\n",
              "      <td>1.267330e+07</td>\n",
              "      <td>1107.928315</td>\n",
              "      <td>NaN</td>\n",
              "      <td>1.364830e+05</td>\n",
              "      <td>17238.074255</td>\n",
              "      <td>195.942631</td>\n",
              "      <td>NaN</td>\n",
              "      <td>0.101549</td>\n",
              "      <td>0.061346</td>\n",
              "    </tr>\n",
              "    <tr>\n",
              "      <th>min</th>\n",
              "      <td>NaN</td>\n",
              "      <td>NaN</td>\n",
              "      <td>2020.0</td>\n",
              "      <td>0.000000</td>\n",
              "      <td>NaN</td>\n",
              "      <td>1.000000e+00</td>\n",
              "      <td>0.000000</td>\n",
              "      <td>NaN</td>\n",
              "      <td>0.000000e+00</td>\n",
              "      <td>0.000000</td>\n",
              "      <td>0.000000</td>\n",
              "      <td>NaN</td>\n",
              "      <td>33.291660</td>\n",
              "      <td>-112.288850</td>\n",
              "    </tr>\n",
              "    <tr>\n",
              "      <th>25%</th>\n",
              "      <td>NaN</td>\n",
              "      <td>NaN</td>\n",
              "      <td>2020.0</td>\n",
              "      <td>0.000000</td>\n",
              "      <td>NaN</td>\n",
              "      <td>2.968400e+04</td>\n",
              "      <td>0.000000</td>\n",
              "      <td>NaN</td>\n",
              "      <td>0.000000e+00</td>\n",
              "      <td>0.000000</td>\n",
              "      <td>28.750000</td>\n",
              "      <td>NaN</td>\n",
              "      <td>33.438240</td>\n",
              "      <td>-112.107440</td>\n",
              "    </tr>\n",
              "    <tr>\n",
              "      <th>50%</th>\n",
              "      <td>NaN</td>\n",
              "      <td>NaN</td>\n",
              "      <td>2020.0</td>\n",
              "      <td>0.000000</td>\n",
              "      <td>NaN</td>\n",
              "      <td>9.064000e+04</td>\n",
              "      <td>37.000000</td>\n",
              "      <td>NaN</td>\n",
              "      <td>3.600000e+03</td>\n",
              "      <td>0.000000</td>\n",
              "      <td>44.120000</td>\n",
              "      <td>NaN</td>\n",
              "      <td>33.471410</td>\n",
              "      <td>-112.071870</td>\n",
              "    </tr>\n",
              "    <tr>\n",
              "      <th>75%</th>\n",
              "      <td>NaN</td>\n",
              "      <td>NaN</td>\n",
              "      <td>2020.0</td>\n",
              "      <td>0.000000</td>\n",
              "      <td>NaN</td>\n",
              "      <td>2.286480e+05</td>\n",
              "      <td>103.000000</td>\n",
              "      <td>NaN</td>\n",
              "      <td>1.349950e+04</td>\n",
              "      <td>99.000000</td>\n",
              "      <td>68.255000</td>\n",
              "      <td>NaN</td>\n",
              "      <td>33.582570</td>\n",
              "      <td>-112.029420</td>\n",
              "    </tr>\n",
              "    <tr>\n",
              "      <th>max</th>\n",
              "      <td>NaN</td>\n",
              "      <td>NaN</td>\n",
              "      <td>2020.0</td>\n",
              "      <td>7500.000000</td>\n",
              "      <td>NaN</td>\n",
              "      <td>2.713631e+08</td>\n",
              "      <td>22957.000000</td>\n",
              "      <td>NaN</td>\n",
              "      <td>1.918732e+06</td>\n",
              "      <td>297702.000000</td>\n",
              "      <td>2055.030000</td>\n",
              "      <td>NaN</td>\n",
              "      <td>33.806080</td>\n",
              "      <td>-111.746200</td>\n",
              "    </tr>\n",
              "  </tbody>\n",
              "</table>\n",
              "</div>\n",
              "      <button class=\"colab-df-convert\" onclick=\"convertToInteractive('df-edc266f8-b3ab-42bb-af31-7fb3e58861cc')\"\n",
              "              title=\"Convert this dataframe to an interactive table.\"\n",
              "              style=\"display:none;\">\n",
              "\n",
              "  <svg xmlns=\"http://www.w3.org/2000/svg\" height=\"24px\"viewBox=\"0 0 24 24\"\n",
              "       width=\"24px\">\n",
              "    <path d=\"M0 0h24v24H0V0z\" fill=\"none\"/>\n",
              "    <path d=\"M18.56 5.44l.94 2.06.94-2.06 2.06-.94-2.06-.94-.94-2.06-.94 2.06-2.06.94zm-11 1L8.5 8.5l.94-2.06 2.06-.94-2.06-.94L8.5 2.5l-.94 2.06-2.06.94zm10 10l.94 2.06.94-2.06 2.06-.94-2.06-.94-.94-2.06-.94 2.06-2.06.94z\"/><path d=\"M17.41 7.96l-1.37-1.37c-.4-.4-.92-.59-1.43-.59-.52 0-1.04.2-1.43.59L10.3 9.45l-7.72 7.72c-.78.78-.78 2.05 0 2.83L4 21.41c.39.39.9.59 1.41.59.51 0 1.02-.2 1.41-.59l7.78-7.78 2.81-2.81c.8-.78.8-2.07 0-2.86zM5.41 20L4 18.59l7.72-7.72 1.47 1.35L5.41 20z\"/>\n",
              "  </svg>\n",
              "      </button>\n",
              "\n",
              "\n",
              "\n",
              "    <div id=\"df-d4473cdb-a4e5-46f5-826a-21c37e3bcf2c\">\n",
              "      <button class=\"colab-df-quickchart\" onclick=\"quickchart('df-d4473cdb-a4e5-46f5-826a-21c37e3bcf2c')\"\n",
              "              title=\"Suggest charts.\"\n",
              "              style=\"display:none;\">\n",
              "\n",
              "<svg xmlns=\"http://www.w3.org/2000/svg\" height=\"24px\"viewBox=\"0 0 24 24\"\n",
              "     width=\"24px\">\n",
              "    <g>\n",
              "        <path d=\"M19 3H5c-1.1 0-2 .9-2 2v14c0 1.1.9 2 2 2h14c1.1 0 2-.9 2-2V5c0-1.1-.9-2-2-2zM9 17H7v-7h2v7zm4 0h-2V7h2v10zm4 0h-2v-4h2v4z\"/>\n",
              "    </g>\n",
              "</svg>\n",
              "      </button>\n",
              "    </div>\n",
              "\n",
              "<style>\n",
              "  .colab-df-quickchart {\n",
              "    background-color: #E8F0FE;\n",
              "    border: none;\n",
              "    border-radius: 50%;\n",
              "    cursor: pointer;\n",
              "    display: none;\n",
              "    fill: #1967D2;\n",
              "    height: 32px;\n",
              "    padding: 0 0 0 0;\n",
              "    width: 32px;\n",
              "  }\n",
              "\n",
              "  .colab-df-quickchart:hover {\n",
              "    background-color: #E2EBFA;\n",
              "    box-shadow: 0px 1px 2px rgba(60, 64, 67, 0.3), 0px 1px 3px 1px rgba(60, 64, 67, 0.15);\n",
              "    fill: #174EA6;\n",
              "  }\n",
              "\n",
              "  [theme=dark] .colab-df-quickchart {\n",
              "    background-color: #3B4455;\n",
              "    fill: #D2E3FC;\n",
              "  }\n",
              "\n",
              "  [theme=dark] .colab-df-quickchart:hover {\n",
              "    background-color: #434B5C;\n",
              "    box-shadow: 0px 1px 3px 1px rgba(0, 0, 0, 0.15);\n",
              "    filter: drop-shadow(0px 1px 2px rgba(0, 0, 0, 0.3));\n",
              "    fill: #FFFFFF;\n",
              "  }\n",
              "</style>\n",
              "\n",
              "    <script>\n",
              "      async function quickchart(key) {\n",
              "        const containerElement = document.querySelector('#' + key);\n",
              "        const charts = await google.colab.kernel.invokeFunction(\n",
              "            'suggestCharts', [key], {});\n",
              "      }\n",
              "    </script>\n",
              "\n",
              "      <script>\n",
              "\n",
              "function displayQuickchartButton(domScope) {\n",
              "  let quickchartButtonEl =\n",
              "    domScope.querySelector('#df-d4473cdb-a4e5-46f5-826a-21c37e3bcf2c button.colab-df-quickchart');\n",
              "  quickchartButtonEl.style.display =\n",
              "    google.colab.kernel.accessAllowed ? 'block' : 'none';\n",
              "}\n",
              "\n",
              "        displayQuickchartButton(document);\n",
              "      </script>\n",
              "      <style>\n",
              "    .colab-df-container {\n",
              "      display:flex;\n",
              "      flex-wrap:wrap;\n",
              "      gap: 12px;\n",
              "    }\n",
              "\n",
              "    .colab-df-convert {\n",
              "      background-color: #E8F0FE;\n",
              "      border: none;\n",
              "      border-radius: 50%;\n",
              "      cursor: pointer;\n",
              "      display: none;\n",
              "      fill: #1967D2;\n",
              "      height: 32px;\n",
              "      padding: 0 0 0 0;\n",
              "      width: 32px;\n",
              "    }\n",
              "\n",
              "    .colab-df-convert:hover {\n",
              "      background-color: #E2EBFA;\n",
              "      box-shadow: 0px 1px 2px rgba(60, 64, 67, 0.3), 0px 1px 3px 1px rgba(60, 64, 67, 0.15);\n",
              "      fill: #174EA6;\n",
              "    }\n",
              "\n",
              "    [theme=dark] .colab-df-convert {\n",
              "      background-color: #3B4455;\n",
              "      fill: #D2E3FC;\n",
              "    }\n",
              "\n",
              "    [theme=dark] .colab-df-convert:hover {\n",
              "      background-color: #434B5C;\n",
              "      box-shadow: 0px 1px 3px 1px rgba(0, 0, 0, 0.15);\n",
              "      filter: drop-shadow(0px 1px 2px rgba(0, 0, 0, 0.3));\n",
              "      fill: #FFFFFF;\n",
              "    }\n",
              "  </style>\n",
              "\n",
              "      <script>\n",
              "        const buttonEl =\n",
              "          document.querySelector('#df-edc266f8-b3ab-42bb-af31-7fb3e58861cc button.colab-df-convert');\n",
              "        buttonEl.style.display =\n",
              "          google.colab.kernel.accessAllowed ? 'block' : 'none';\n",
              "\n",
              "        async function convertToInteractive(key) {\n",
              "          const element = document.querySelector('#df-edc266f8-b3ab-42bb-af31-7fb3e58861cc');\n",
              "          const dataTable =\n",
              "            await google.colab.kernel.invokeFunction('convertToInteractive',\n",
              "                                                     [key], {});\n",
              "          if (!dataTable) return;\n",
              "\n",
              "          const docLinkHtml = 'Like what you see? Visit the ' +\n",
              "            '<a target=\"_blank\" href=https://colab.research.google.com/notebooks/data_table.ipynb>data table notebook</a>'\n",
              "            + ' to learn more about interactive tables.';\n",
              "          element.innerHTML = '';\n",
              "          dataTable['output_type'] = 'display_data';\n",
              "          await google.colab.output.renderOutput(dataTable, element);\n",
              "          const docLink = document.createElement('div');\n",
              "          docLink.innerHTML = docLinkHtml;\n",
              "          element.appendChild(docLink);\n",
              "        }\n",
              "      </script>\n",
              "    </div>\n",
              "  </div>\n"
            ]
          },
          "metadata": {},
          "execution_count": 112
        }
      ]
    },
    {
      "cell_type": "code",
      "source": [
        "df.isna().sum()"
      ],
      "metadata": {
        "colab": {
          "base_uri": "https://localhost:8080/"
        },
        "id": "KWTA13BNIX7I",
        "outputId": "848b310c-f188-413b-ba7a-cfaa1183a83a"
      },
      "execution_count": null,
      "outputs": [
        {
          "output_type": "execute_result",
          "data": {
            "text/plain": [
              "Site Name                 0\n",
              "Department                0\n",
              "Year                      0\n",
              "Current Solar             0\n",
              "Electric Utility          0\n",
              "Electricity Usage         0\n",
              "Peak Electric Demand      0\n",
              " Building Type            1\n",
              "Building Area             0\n",
              "Natural Gas Usage         0\n",
              "Energy Use Intensity    216\n",
              "Address                   1\n",
              "Latitude                 14\n",
              "Longitude                14\n",
              "dtype: int64"
            ]
          },
          "metadata": {},
          "execution_count": 113
        }
      ]
    },
    {
      "cell_type": "code",
      "source": [
        "df.columns"
      ],
      "metadata": {
        "colab": {
          "base_uri": "https://localhost:8080/"
        },
        "id": "ErV6JBSQItiR",
        "outputId": "aca15585-b689-41a1-be41-aeb1e2474250"
      },
      "execution_count": null,
      "outputs": [
        {
          "output_type": "execute_result",
          "data": {
            "text/plain": [
              "Index(['Site Name', 'Department', 'Year', 'Current Solar', 'Electric Utility',\n",
              "       'Electricity Usage', 'Peak Electric Demand', ' Building Type ',\n",
              "       'Building Area', 'Natural Gas Usage', 'Energy Use Intensity', 'Address',\n",
              "       'Latitude', 'Longitude'],\n",
              "      dtype='object')"
            ]
          },
          "metadata": {},
          "execution_count": 114
        }
      ]
    },
    {
      "cell_type": "markdown",
      "source": [
        "# data cleaning"
      ],
      "metadata": {
        "id": "Y03tkaMKQXBw"
      }
    },
    {
      "cell_type": "code",
      "source": [
        "def remove_column_spaces(column_names):\n",
        "    df = []\n",
        "    for column_name in column_names:\n",
        "        df.append(column_name.strip())\n",
        "    return df\n",
        "\n",
        "df.columns = remove_column_spaces(df.columns)"
      ],
      "metadata": {
        "id": "0EWMOkHlPpSM"
      },
      "execution_count": null,
      "outputs": []
    },
    {
      "cell_type": "code",
      "source": [
        "df.columns"
      ],
      "metadata": {
        "colab": {
          "base_uri": "https://localhost:8080/"
        },
        "id": "-afKPzeNP56U",
        "outputId": "27f65515-d3a8-45d5-8865-d324c4e02429"
      },
      "execution_count": null,
      "outputs": [
        {
          "output_type": "execute_result",
          "data": {
            "text/plain": [
              "Index(['Site Name', 'Department', 'Year', 'Current Solar', 'Electric Utility',\n",
              "       'Electricity Usage', 'Peak Electric Demand', 'Building Type',\n",
              "       'Building Area', 'Natural Gas Usage', 'Energy Use Intensity', 'Address',\n",
              "       'Latitude', 'Longitude'],\n",
              "      dtype='object')"
            ]
          },
          "metadata": {},
          "execution_count": 116
        }
      ]
    },
    {
      "cell_type": "code",
      "source": [
        "# drop Latitude, Longitude col\n",
        "df.drop(['Latitude','Longitude','Year'], axis=1, inplace=True)"
      ],
      "metadata": {
        "id": "ViR7uPylOz49"
      },
      "execution_count": null,
      "outputs": []
    },
    {
      "cell_type": "code",
      "source": [
        "categorical = [col for col in df.columns if df[col].dtypes == 'O']\n",
        "\n",
        "for feature in df[categorical]:\n",
        "        print(f'{feature}: {df[feature].nunique()}')"
      ],
      "metadata": {
        "colab": {
          "base_uri": "https://localhost:8080/"
        },
        "id": "pYBXaGqWQ4vq",
        "outputId": "ab0325d1-4b51-4d62-c20f-4d1ecb7894ca"
      },
      "execution_count": null,
      "outputs": [
        {
          "output_type": "stream",
          "name": "stdout",
          "text": [
            "Site Name: 500\n",
            "Department: 18\n",
            "Electric Utility: 3\n",
            "Building Type: 54\n",
            "Address: 450\n"
          ]
        }
      ]
    },
    {
      "cell_type": "code",
      "source": [
        "# replace null to 'none'\n",
        "df['Address'].fillna('None', inplace=True)\n",
        "df['Address'] = df['Address'].replace(' N/A ','None')"
      ],
      "metadata": {
        "id": "nnaVTY4ZSy8V"
      },
      "execution_count": null,
      "outputs": []
    },
    {
      "cell_type": "code",
      "source": [
        "# replace Energy Use Intensity ke nilai median\n",
        "df[['Energy Use Intensity']] = df[['Energy Use Intensity']].fillna(df[['Energy Use Intensity']].median())"
      ],
      "metadata": {
        "id": "EHR2l7kQY7CD"
      },
      "execution_count": null,
      "outputs": []
    },
    {
      "cell_type": "code",
      "source": [
        "# replace null to 'none'\n",
        "df['Building Type'].fillna('None', inplace=True)\n",
        "df['Building Type'] = df['Building Type'].replace(' N/A ','None')"
      ],
      "metadata": {
        "id": "zOvBbUCNcgUT"
      },
      "execution_count": null,
      "outputs": []
    },
    {
      "cell_type": "code",
      "source": [
        "df.info()"
      ],
      "metadata": {
        "colab": {
          "base_uri": "https://localhost:8080/"
        },
        "id": "zNGEzwb2cbp8",
        "outputId": "f900c580-dc5f-480d-db51-eb4d6f8366c1"
      },
      "execution_count": null,
      "outputs": [
        {
          "output_type": "stream",
          "name": "stdout",
          "text": [
            "<class 'pandas.core.frame.DataFrame'>\n",
            "RangeIndex: 503 entries, 0 to 502\n",
            "Data columns (total 11 columns):\n",
            " #   Column                Non-Null Count  Dtype  \n",
            "---  ------                --------------  -----  \n",
            " 0   Site Name             503 non-null    object \n",
            " 1   Department            503 non-null    object \n",
            " 2   Current Solar         503 non-null    int64  \n",
            " 3   Electric Utility      503 non-null    object \n",
            " 4   Electricity Usage     503 non-null    int64  \n",
            " 5   Peak Electric Demand  503 non-null    int64  \n",
            " 6   Building Type         503 non-null    object \n",
            " 7   Building Area         503 non-null    int64  \n",
            " 8   Natural Gas Usage     503 non-null    int64  \n",
            " 9   Energy Use Intensity  503 non-null    float64\n",
            " 10  Address               503 non-null    object \n",
            "dtypes: float64(1), int64(5), object(5)\n",
            "memory usage: 43.4+ KB\n"
          ]
        }
      ]
    },
    {
      "cell_type": "markdown",
      "source": [
        "# EDA"
      ],
      "metadata": {
        "id": "XG1cfVP8c0j5"
      }
    },
    {
      "cell_type": "code",
      "source": [
        "df"
      ],
      "metadata": {
        "colab": {
          "base_uri": "https://localhost:8080/",
          "height": 658
        },
        "id": "8EouQse-iCDw",
        "outputId": "e4b05edd-b7fd-4447-f503-e112779eebbb"
      },
      "execution_count": null,
      "outputs": [
        {
          "output_type": "execute_result",
          "data": {
            "text/plain": [
              "                      Site Name      Department  Current Solar  \\\n",
              "0              PHX Building 139        Aviation              0   \n",
              "1           Old Verde Park Cntr           Parks              0   \n",
              "2    North Ranger Station - Old           Parks              0   \n",
              "3    Lookout Mountain Trailhead           Parks              0   \n",
              "4                  Laveen Basin           Parks              0   \n",
              "..                          ...             ...            ...   \n",
              "498                Streetlights         Streets              0   \n",
              "499          Street Landscaping         Streets              0   \n",
              "500               Transit Stops  Public Transit              0   \n",
              "501   Water Services Department           Water           7500   \n",
              "502                        Misc             All              0   \n",
              "\n",
              "    Electric Utility  Electricity Usage  Peak Electric Demand   Building Type  \\\n",
              "0                APS                  1                     0  REPAIRSERVICES   \n",
              "1                APS                 12                     0         UNKNOWN   \n",
              "2                APS                 77                     0          OFFICE   \n",
              "3                APS                242                     0      OUTDOORREC   \n",
              "4                SRP                317                     0            PARK   \n",
              "..               ...                ...                   ...             ...   \n",
              "498          APS/SRP           38461529                     0            None   \n",
              "499          APS/SRP             248853                     0            None   \n",
              "500          APS/SRP             598844                     0            None   \n",
              "501          APS/SRP          271363124                     0            None   \n",
              "502          APS/SRP           11550013                     0            None   \n",
              "\n",
              "     Building Area  Natural Gas Usage  Energy Use Intensity  \\\n",
              "0             3616                  0                  0.00   \n",
              "1                0                  0                 44.12   \n",
              "2                0                  0                 44.12   \n",
              "3                0                  0                 44.12   \n",
              "4                0                  0                 44.12   \n",
              "..             ...                ...                   ...   \n",
              "498              0                  0                  0.00   \n",
              "499              0                  0                  0.00   \n",
              "500              0                  0                  0.00   \n",
              "501              0             179591                  0.00   \n",
              "502              0                  0                  0.00   \n",
              "\n",
              "                Address  \n",
              "0         2745 E Air Ln  \n",
              "1    916 E Van Buren St  \n",
              "2       11659 N 16th St  \n",
              "3       15415 N 16th St  \n",
              "4       6039 S 43rd Ave  \n",
              "..                  ...  \n",
              "498                None  \n",
              "499                None  \n",
              "500                None  \n",
              "501                None  \n",
              "502                None  \n",
              "\n",
              "[503 rows x 11 columns]"
            ],
            "text/html": [
              "\n",
              "\n",
              "  <div id=\"df-b9dd9178-7a0e-49fe-bda3-35b9ae964848\">\n",
              "    <div class=\"colab-df-container\">\n",
              "      <div>\n",
              "<style scoped>\n",
              "    .dataframe tbody tr th:only-of-type {\n",
              "        vertical-align: middle;\n",
              "    }\n",
              "\n",
              "    .dataframe tbody tr th {\n",
              "        vertical-align: top;\n",
              "    }\n",
              "\n",
              "    .dataframe thead th {\n",
              "        text-align: right;\n",
              "    }\n",
              "</style>\n",
              "<table border=\"1\" class=\"dataframe\">\n",
              "  <thead>\n",
              "    <tr style=\"text-align: right;\">\n",
              "      <th></th>\n",
              "      <th>Site Name</th>\n",
              "      <th>Department</th>\n",
              "      <th>Current Solar</th>\n",
              "      <th>Electric Utility</th>\n",
              "      <th>Electricity Usage</th>\n",
              "      <th>Peak Electric Demand</th>\n",
              "      <th>Building Type</th>\n",
              "      <th>Building Area</th>\n",
              "      <th>Natural Gas Usage</th>\n",
              "      <th>Energy Use Intensity</th>\n",
              "      <th>Address</th>\n",
              "    </tr>\n",
              "  </thead>\n",
              "  <tbody>\n",
              "    <tr>\n",
              "      <th>0</th>\n",
              "      <td>PHX Building 139</td>\n",
              "      <td>Aviation</td>\n",
              "      <td>0</td>\n",
              "      <td>APS</td>\n",
              "      <td>1</td>\n",
              "      <td>0</td>\n",
              "      <td>REPAIRSERVICES</td>\n",
              "      <td>3616</td>\n",
              "      <td>0</td>\n",
              "      <td>0.00</td>\n",
              "      <td>2745 E Air Ln</td>\n",
              "    </tr>\n",
              "    <tr>\n",
              "      <th>1</th>\n",
              "      <td>Old Verde Park Cntr</td>\n",
              "      <td>Parks</td>\n",
              "      <td>0</td>\n",
              "      <td>APS</td>\n",
              "      <td>12</td>\n",
              "      <td>0</td>\n",
              "      <td>UNKNOWN</td>\n",
              "      <td>0</td>\n",
              "      <td>0</td>\n",
              "      <td>44.12</td>\n",
              "      <td>916 E Van Buren St</td>\n",
              "    </tr>\n",
              "    <tr>\n",
              "      <th>2</th>\n",
              "      <td>North Ranger Station - Old</td>\n",
              "      <td>Parks</td>\n",
              "      <td>0</td>\n",
              "      <td>APS</td>\n",
              "      <td>77</td>\n",
              "      <td>0</td>\n",
              "      <td>OFFICE</td>\n",
              "      <td>0</td>\n",
              "      <td>0</td>\n",
              "      <td>44.12</td>\n",
              "      <td>11659 N 16th St</td>\n",
              "    </tr>\n",
              "    <tr>\n",
              "      <th>3</th>\n",
              "      <td>Lookout Mountain Trailhead</td>\n",
              "      <td>Parks</td>\n",
              "      <td>0</td>\n",
              "      <td>APS</td>\n",
              "      <td>242</td>\n",
              "      <td>0</td>\n",
              "      <td>OUTDOORREC</td>\n",
              "      <td>0</td>\n",
              "      <td>0</td>\n",
              "      <td>44.12</td>\n",
              "      <td>15415 N 16th St</td>\n",
              "    </tr>\n",
              "    <tr>\n",
              "      <th>4</th>\n",
              "      <td>Laveen Basin</td>\n",
              "      <td>Parks</td>\n",
              "      <td>0</td>\n",
              "      <td>SRP</td>\n",
              "      <td>317</td>\n",
              "      <td>0</td>\n",
              "      <td>PARK</td>\n",
              "      <td>0</td>\n",
              "      <td>0</td>\n",
              "      <td>44.12</td>\n",
              "      <td>6039 S 43rd Ave</td>\n",
              "    </tr>\n",
              "    <tr>\n",
              "      <th>...</th>\n",
              "      <td>...</td>\n",
              "      <td>...</td>\n",
              "      <td>...</td>\n",
              "      <td>...</td>\n",
              "      <td>...</td>\n",
              "      <td>...</td>\n",
              "      <td>...</td>\n",
              "      <td>...</td>\n",
              "      <td>...</td>\n",
              "      <td>...</td>\n",
              "      <td>...</td>\n",
              "    </tr>\n",
              "    <tr>\n",
              "      <th>498</th>\n",
              "      <td>Streetlights</td>\n",
              "      <td>Streets</td>\n",
              "      <td>0</td>\n",
              "      <td>APS/SRP</td>\n",
              "      <td>38461529</td>\n",
              "      <td>0</td>\n",
              "      <td>None</td>\n",
              "      <td>0</td>\n",
              "      <td>0</td>\n",
              "      <td>0.00</td>\n",
              "      <td>None</td>\n",
              "    </tr>\n",
              "    <tr>\n",
              "      <th>499</th>\n",
              "      <td>Street Landscaping</td>\n",
              "      <td>Streets</td>\n",
              "      <td>0</td>\n",
              "      <td>APS/SRP</td>\n",
              "      <td>248853</td>\n",
              "      <td>0</td>\n",
              "      <td>None</td>\n",
              "      <td>0</td>\n",
              "      <td>0</td>\n",
              "      <td>0.00</td>\n",
              "      <td>None</td>\n",
              "    </tr>\n",
              "    <tr>\n",
              "      <th>500</th>\n",
              "      <td>Transit Stops</td>\n",
              "      <td>Public Transit</td>\n",
              "      <td>0</td>\n",
              "      <td>APS/SRP</td>\n",
              "      <td>598844</td>\n",
              "      <td>0</td>\n",
              "      <td>None</td>\n",
              "      <td>0</td>\n",
              "      <td>0</td>\n",
              "      <td>0.00</td>\n",
              "      <td>None</td>\n",
              "    </tr>\n",
              "    <tr>\n",
              "      <th>501</th>\n",
              "      <td>Water Services Department</td>\n",
              "      <td>Water</td>\n",
              "      <td>7500</td>\n",
              "      <td>APS/SRP</td>\n",
              "      <td>271363124</td>\n",
              "      <td>0</td>\n",
              "      <td>None</td>\n",
              "      <td>0</td>\n",
              "      <td>179591</td>\n",
              "      <td>0.00</td>\n",
              "      <td>None</td>\n",
              "    </tr>\n",
              "    <tr>\n",
              "      <th>502</th>\n",
              "      <td>Misc</td>\n",
              "      <td>All</td>\n",
              "      <td>0</td>\n",
              "      <td>APS/SRP</td>\n",
              "      <td>11550013</td>\n",
              "      <td>0</td>\n",
              "      <td>None</td>\n",
              "      <td>0</td>\n",
              "      <td>0</td>\n",
              "      <td>0.00</td>\n",
              "      <td>None</td>\n",
              "    </tr>\n",
              "  </tbody>\n",
              "</table>\n",
              "<p>503 rows × 11 columns</p>\n",
              "</div>\n",
              "      <button class=\"colab-df-convert\" onclick=\"convertToInteractive('df-b9dd9178-7a0e-49fe-bda3-35b9ae964848')\"\n",
              "              title=\"Convert this dataframe to an interactive table.\"\n",
              "              style=\"display:none;\">\n",
              "\n",
              "  <svg xmlns=\"http://www.w3.org/2000/svg\" height=\"24px\"viewBox=\"0 0 24 24\"\n",
              "       width=\"24px\">\n",
              "    <path d=\"M0 0h24v24H0V0z\" fill=\"none\"/>\n",
              "    <path d=\"M18.56 5.44l.94 2.06.94-2.06 2.06-.94-2.06-.94-.94-2.06-.94 2.06-2.06.94zm-11 1L8.5 8.5l.94-2.06 2.06-.94-2.06-.94L8.5 2.5l-.94 2.06-2.06.94zm10 10l.94 2.06.94-2.06 2.06-.94-2.06-.94-.94-2.06-.94 2.06-2.06.94z\"/><path d=\"M17.41 7.96l-1.37-1.37c-.4-.4-.92-.59-1.43-.59-.52 0-1.04.2-1.43.59L10.3 9.45l-7.72 7.72c-.78.78-.78 2.05 0 2.83L4 21.41c.39.39.9.59 1.41.59.51 0 1.02-.2 1.41-.59l7.78-7.78 2.81-2.81c.8-.78.8-2.07 0-2.86zM5.41 20L4 18.59l7.72-7.72 1.47 1.35L5.41 20z\"/>\n",
              "  </svg>\n",
              "      </button>\n",
              "\n",
              "\n",
              "\n",
              "    <div id=\"df-4208b3dc-1caf-4477-a26e-ffbb66228ef7\">\n",
              "      <button class=\"colab-df-quickchart\" onclick=\"quickchart('df-4208b3dc-1caf-4477-a26e-ffbb66228ef7')\"\n",
              "              title=\"Suggest charts.\"\n",
              "              style=\"display:none;\">\n",
              "\n",
              "<svg xmlns=\"http://www.w3.org/2000/svg\" height=\"24px\"viewBox=\"0 0 24 24\"\n",
              "     width=\"24px\">\n",
              "    <g>\n",
              "        <path d=\"M19 3H5c-1.1 0-2 .9-2 2v14c0 1.1.9 2 2 2h14c1.1 0 2-.9 2-2V5c0-1.1-.9-2-2-2zM9 17H7v-7h2v7zm4 0h-2V7h2v10zm4 0h-2v-4h2v4z\"/>\n",
              "    </g>\n",
              "</svg>\n",
              "      </button>\n",
              "    </div>\n",
              "\n",
              "<style>\n",
              "  .colab-df-quickchart {\n",
              "    background-color: #E8F0FE;\n",
              "    border: none;\n",
              "    border-radius: 50%;\n",
              "    cursor: pointer;\n",
              "    display: none;\n",
              "    fill: #1967D2;\n",
              "    height: 32px;\n",
              "    padding: 0 0 0 0;\n",
              "    width: 32px;\n",
              "  }\n",
              "\n",
              "  .colab-df-quickchart:hover {\n",
              "    background-color: #E2EBFA;\n",
              "    box-shadow: 0px 1px 2px rgba(60, 64, 67, 0.3), 0px 1px 3px 1px rgba(60, 64, 67, 0.15);\n",
              "    fill: #174EA6;\n",
              "  }\n",
              "\n",
              "  [theme=dark] .colab-df-quickchart {\n",
              "    background-color: #3B4455;\n",
              "    fill: #D2E3FC;\n",
              "  }\n",
              "\n",
              "  [theme=dark] .colab-df-quickchart:hover {\n",
              "    background-color: #434B5C;\n",
              "    box-shadow: 0px 1px 3px 1px rgba(0, 0, 0, 0.15);\n",
              "    filter: drop-shadow(0px 1px 2px rgba(0, 0, 0, 0.3));\n",
              "    fill: #FFFFFF;\n",
              "  }\n",
              "</style>\n",
              "\n",
              "    <script>\n",
              "      async function quickchart(key) {\n",
              "        const containerElement = document.querySelector('#' + key);\n",
              "        const charts = await google.colab.kernel.invokeFunction(\n",
              "            'suggestCharts', [key], {});\n",
              "      }\n",
              "    </script>\n",
              "\n",
              "      <script>\n",
              "\n",
              "function displayQuickchartButton(domScope) {\n",
              "  let quickchartButtonEl =\n",
              "    domScope.querySelector('#df-4208b3dc-1caf-4477-a26e-ffbb66228ef7 button.colab-df-quickchart');\n",
              "  quickchartButtonEl.style.display =\n",
              "    google.colab.kernel.accessAllowed ? 'block' : 'none';\n",
              "}\n",
              "\n",
              "        displayQuickchartButton(document);\n",
              "      </script>\n",
              "      <style>\n",
              "    .colab-df-container {\n",
              "      display:flex;\n",
              "      flex-wrap:wrap;\n",
              "      gap: 12px;\n",
              "    }\n",
              "\n",
              "    .colab-df-convert {\n",
              "      background-color: #E8F0FE;\n",
              "      border: none;\n",
              "      border-radius: 50%;\n",
              "      cursor: pointer;\n",
              "      display: none;\n",
              "      fill: #1967D2;\n",
              "      height: 32px;\n",
              "      padding: 0 0 0 0;\n",
              "      width: 32px;\n",
              "    }\n",
              "\n",
              "    .colab-df-convert:hover {\n",
              "      background-color: #E2EBFA;\n",
              "      box-shadow: 0px 1px 2px rgba(60, 64, 67, 0.3), 0px 1px 3px 1px rgba(60, 64, 67, 0.15);\n",
              "      fill: #174EA6;\n",
              "    }\n",
              "\n",
              "    [theme=dark] .colab-df-convert {\n",
              "      background-color: #3B4455;\n",
              "      fill: #D2E3FC;\n",
              "    }\n",
              "\n",
              "    [theme=dark] .colab-df-convert:hover {\n",
              "      background-color: #434B5C;\n",
              "      box-shadow: 0px 1px 3px 1px rgba(0, 0, 0, 0.15);\n",
              "      filter: drop-shadow(0px 1px 2px rgba(0, 0, 0, 0.3));\n",
              "      fill: #FFFFFF;\n",
              "    }\n",
              "  </style>\n",
              "\n",
              "      <script>\n",
              "        const buttonEl =\n",
              "          document.querySelector('#df-b9dd9178-7a0e-49fe-bda3-35b9ae964848 button.colab-df-convert');\n",
              "        buttonEl.style.display =\n",
              "          google.colab.kernel.accessAllowed ? 'block' : 'none';\n",
              "\n",
              "        async function convertToInteractive(key) {\n",
              "          const element = document.querySelector('#df-b9dd9178-7a0e-49fe-bda3-35b9ae964848');\n",
              "          const dataTable =\n",
              "            await google.colab.kernel.invokeFunction('convertToInteractive',\n",
              "                                                     [key], {});\n",
              "          if (!dataTable) return;\n",
              "\n",
              "          const docLinkHtml = 'Like what you see? Visit the ' +\n",
              "            '<a target=\"_blank\" href=https://colab.research.google.com/notebooks/data_table.ipynb>data table notebook</a>'\n",
              "            + ' to learn more about interactive tables.';\n",
              "          element.innerHTML = '';\n",
              "          dataTable['output_type'] = 'display_data';\n",
              "          await google.colab.output.renderOutput(dataTable, element);\n",
              "          const docLink = document.createElement('div');\n",
              "          docLink.innerHTML = docLinkHtml;\n",
              "          element.appendChild(docLink);\n",
              "        }\n",
              "      </script>\n",
              "    </div>\n",
              "  </div>\n"
            ]
          },
          "metadata": {},
          "execution_count": 123
        }
      ]
    },
    {
      "cell_type": "code",
      "source": [
        "sns.barplot(data=df, x='Electric Utility', y='Electricity Usage')"
      ],
      "metadata": {
        "colab": {
          "base_uri": "https://localhost:8080/",
          "height": 482
        },
        "id": "D0nvDxjWcrie",
        "outputId": "ae963acf-b642-45e4-abcf-a01367e2af39"
      },
      "execution_count": null,
      "outputs": [
        {
          "output_type": "execute_result",
          "data": {
            "text/plain": [
              "<Axes: xlabel='Electric Utility', ylabel='Electricity Usage'>"
            ]
          },
          "metadata": {},
          "execution_count": 124
        },
        {
          "output_type": "display_data",
          "data": {
            "text/plain": [
              "<Figure size 640x480 with 1 Axes>"
            ],
            "image/png": "[encoded data removed]"
          },
          "metadata": {}
        }
      ]
    },
    {
      "cell_type": "code",
      "source": [
        "sns.heatmap(df.corr(), annot=True)\n",
        "plt.savefig('corr.tiff', format='tiff', dpi=300)"
      ],
      "metadata": {
        "colab": {
          "base_uri": "https://localhost:8080/",
          "height": 629
        },
        "id": "NUlHBgbAhQRz",
        "outputId": "d229de59-81ea-475a-c8e4-fa79e0830f28"
      },
      "execution_count": null,
      "outputs": [
        {
          "output_type": "stream",
          "name": "stderr",
          "text": [
            "<ipython-input-125-cb3063e46db3>:1: FutureWarning: The default value of numeric_only in DataFrame.corr is deprecated. In a future version, it will default to False. Select only valid columns or specify the value of numeric_only to silence this warning.\n",
            "  sns.heatmap(df.corr(), annot=True)\n"
          ]
        },
        {
          "output_type": "display_data",
          "data": {
            "text/plain": [
              "<Figure size 640x480 with 2 Axes>"
            ],
            "image/png": "[encoded data removed]"
          },
          "metadata": {}
        }
      ]
    },
    {
      "cell_type": "code",
      "source": [
        "g = sns.PairGrid(df)\n",
        "g.map(sns.scatterplot)\n",
        "plt.savefig('scatter.tiff', format='tiff', dpi=300)"
      ],
      "metadata": {
        "colab": {
          "base_uri": "https://localhost:8080/",
          "height": 1000
        },
        "id": "rraJtQm7l2Eq",
        "outputId": "a0fe6421-456c-484d-e98f-169b70284eca"
      },
      "execution_count": null,
      "outputs": [
        {
          "output_type": "display_data",
          "data": {
            "text/plain": [
              "<Figure size 1500x1500 with 36 Axes>"
            ],
            "image/png": "[encoded data removed]"
          },
          "metadata": {}
        }
      ]
    },
    {
      "cell_type": "code",
      "source": [
        "sns.lineplot(df, x='Current Solar', y='Peak Electric Demand')"
      ],
      "metadata": {
        "colab": {
          "base_uri": "https://localhost:8080/",
          "height": 466
        },
        "id": "ZRyP_V7_jNYR",
        "outputId": "3b3838d0-6795-4120-c197-04542e4e9b68"
      },
      "execution_count": null,
      "outputs": [
        {
          "output_type": "execute_result",
          "data": {
            "text/plain": [
              "<Axes: xlabel='Current Solar', ylabel='Peak Electric Demand'>"
            ]
          },
          "metadata": {},
          "execution_count": 127
        },
        {
          "output_type": "display_data",
          "data": {
            "text/plain": [
              "<Figure size 640x480 with 1 Axes>"
            ],
            "image/png": "[encoded data removed]"
          },
          "metadata": {}
        }
      ]
    },
    {
      "cell_type": "code",
      "source": [
        "sns.lineplot(df, x='Current Solar', y='Electricity Usage')"
      ],
      "metadata": {
        "colab": {
          "base_uri": "https://localhost:8080/",
          "height": 482
        },
        "id": "KmEgYpQ2m2T0",
        "outputId": "cef50405-29fc-4b11-bd49-d72451b8cb2c"
      },
      "execution_count": null,
      "outputs": [
        {
          "output_type": "execute_result",
          "data": {
            "text/plain": [
              "<Axes: xlabel='Current Solar', ylabel='Electricity Usage'>"
            ]
          },
          "metadata": {},
          "execution_count": 128
        },
        {
          "output_type": "display_data",
          "data": {
            "text/plain": [
              "<Figure size 640x480 with 1 Axes>"
            ],
            "image/png": "[encoded data removed]"
          },
          "metadata": {}
        }
      ]
    },
    {
      "cell_type": "code",
      "source": [
        "df.describe()"
      ],
      "metadata": {
        "colab": {
          "base_uri": "https://localhost:8080/",
          "height": 300
        },
        "id": "q56LOr2ZnCdk",
        "outputId": "3f362117-ab77-4279-9ed1-72899cd501bc"
      },
      "execution_count": null,
      "outputs": [
        {
          "output_type": "execute_result",
          "data": {
            "text/plain": [
              "       Current Solar  Electricity Usage  Peak Electric Demand  Building Area  \\\n",
              "count     503.000000       5.030000e+02            503.000000   5.030000e+02   \n",
              "mean       33.222664       1.183953e+06            191.411531   2.730766e+04   \n",
              "std       389.039560       1.267330e+07           1107.928315   1.364830e+05   \n",
              "min         0.000000       1.000000e+00              0.000000   0.000000e+00   \n",
              "25%         0.000000       2.968400e+04              0.000000   0.000000e+00   \n",
              "50%         0.000000       9.064000e+04             37.000000   3.600000e+03   \n",
              "75%         0.000000       2.286480e+05            103.000000   1.349950e+04   \n",
              "max      7500.000000       2.713631e+08          22957.000000   1.918732e+06   \n",
              "\n",
              "       Natural Gas Usage  Energy Use Intensity  \n",
              "count         503.000000            503.000000  \n",
              "mean         2117.711730             65.236640  \n",
              "std         17238.074255            149.029742  \n",
              "min             0.000000              0.000000  \n",
              "25%             0.000000             40.080000  \n",
              "50%             0.000000             44.120000  \n",
              "75%            99.000000             52.350000  \n",
              "max        297702.000000           2055.030000  "
            ],
            "text/html": [
              "\n",
              "\n",
              "  <div id=\"df-162270bc-d410-4613-938b-97138d372b91\">\n",
              "    <div class=\"colab-df-container\">\n",
              "      <div>\n",
              "<style scoped>\n",
              "    .dataframe tbody tr th:only-of-type {\n",
              "        vertical-align: middle;\n",
              "    }\n",
              "\n",
              "    .dataframe tbody tr th {\n",
              "        vertical-align: top;\n",
              "    }\n",
              "\n",
              "    .dataframe thead th {\n",
              "        text-align: right;\n",
              "    }\n",
              "</style>\n",
              "<table border=\"1\" class=\"dataframe\">\n",
              "  <thead>\n",
              "    <tr style=\"text-align: right;\">\n",
              "      <th></th>\n",
              "      <th>Current Solar</th>\n",
              "      <th>Electricity Usage</th>\n",
              "      <th>Peak Electric Demand</th>\n",
              "      <th>Building Area</th>\n",
              "      <th>Natural Gas Usage</th>\n",
              "      <th>Energy Use Intensity</th>\n",
              "    </tr>\n",
              "  </thead>\n",
              "  <tbody>\n",
              "    <tr>\n",
              "      <th>count</th>\n",
              "      <td>503.000000</td>\n",
              "      <td>5.030000e+02</td>\n",
              "      <td>503.000000</td>\n",
              "      <td>5.030000e+02</td>\n",
              "      <td>503.000000</td>\n",
              "      <td>503.000000</td>\n",
              "    </tr>\n",
              "    <tr>\n",
              "      <th>mean</th>\n",
              "      <td>33.222664</td>\n",
              "      <td>1.183953e+06</td>\n",
              "      <td>191.411531</td>\n",
              "      <td>2.730766e+04</td>\n",
              "      <td>2117.711730</td>\n",
              "      <td>65.236640</td>\n",
              "    </tr>\n",
              "    <tr>\n",
              "      <th>std</th>\n",
              "      <td>389.039560</td>\n",
              "      <td>1.267330e+07</td>\n",
              "      <td>1107.928315</td>\n",
              "      <td>1.364830e+05</td>\n",
              "      <td>17238.074255</td>\n",
              "      <td>149.029742</td>\n",
              "    </tr>\n",
              "    <tr>\n",
              "      <th>min</th>\n",
              "      <td>0.000000</td>\n",
              "      <td>1.000000e+00</td>\n",
              "      <td>0.000000</td>\n",
              "      <td>0.000000e+00</td>\n",
              "      <td>0.000000</td>\n",
              "      <td>0.000000</td>\n",
              "    </tr>\n",
              "    <tr>\n",
              "      <th>25%</th>\n",
              "      <td>0.000000</td>\n",
              "      <td>2.968400e+04</td>\n",
              "      <td>0.000000</td>\n",
              "      <td>0.000000e+00</td>\n",
              "      <td>0.000000</td>\n",
              "      <td>40.080000</td>\n",
              "    </tr>\n",
              "    <tr>\n",
              "      <th>50%</th>\n",
              "      <td>0.000000</td>\n",
              "      <td>9.064000e+04</td>\n",
              "      <td>37.000000</td>\n",
              "      <td>3.600000e+03</td>\n",
              "      <td>0.000000</td>\n",
              "      <td>44.120000</td>\n",
              "    </tr>\n",
              "    <tr>\n",
              "      <th>75%</th>\n",
              "      <td>0.000000</td>\n",
              "      <td>2.286480e+05</td>\n",
              "      <td>103.000000</td>\n",
              "      <td>1.349950e+04</td>\n",
              "      <td>99.000000</td>\n",
              "      <td>52.350000</td>\n",
              "    </tr>\n",
              "    <tr>\n",
              "      <th>max</th>\n",
              "      <td>7500.000000</td>\n",
              "      <td>2.713631e+08</td>\n",
              "      <td>22957.000000</td>\n",
              "      <td>1.918732e+06</td>\n",
              "      <td>297702.000000</td>\n",
              "      <td>2055.030000</td>\n",
              "    </tr>\n",
              "  </tbody>\n",
              "</table>\n",
              "</div>\n",
              "      <button class=\"colab-df-convert\" onclick=\"convertToInteractive('df-162270bc-d410-4613-938b-97138d372b91')\"\n",
              "              title=\"Convert this dataframe to an interactive table.\"\n",
              "              style=\"display:none;\">\n",
              "\n",
              "  <svg xmlns=\"http://www.w3.org/2000/svg\" height=\"24px\"viewBox=\"0 0 24 24\"\n",
              "       width=\"24px\">\n",
              "    <path d=\"M0 0h24v24H0V0z\" fill=\"none\"/>\n",
              "    <path d=\"M18.56 5.44l.94 2.06.94-2.06 2.06-.94-2.06-.94-.94-2.06-.94 2.06-2.06.94zm-11 1L8.5 8.5l.94-2.06 2.06-.94-2.06-.94L8.5 2.5l-.94 2.06-2.06.94zm10 10l.94 2.06.94-2.06 2.06-.94-2.06-.94-.94-2.06-.94 2.06-2.06.94z\"/><path d=\"M17.41 7.96l-1.37-1.37c-.4-.4-.92-.59-1.43-.59-.52 0-1.04.2-1.43.59L10.3 9.45l-7.72 7.72c-.78.78-.78 2.05 0 2.83L4 21.41c.39.39.9.59 1.41.59.51 0 1.02-.2 1.41-.59l7.78-7.78 2.81-2.81c.8-.78.8-2.07 0-2.86zM5.41 20L4 18.59l7.72-7.72 1.47 1.35L5.41 20z\"/>\n",
              "  </svg>\n",
              "      </button>\n",
              "\n",
              "\n",
              "\n",
              "    <div id=\"df-bd08c447-a271-4061-9b95-30e6c5a0f333\">\n",
              "      <button class=\"colab-df-quickchart\" onclick=\"quickchart('df-bd08c447-a271-4061-9b95-30e6c5a0f333')\"\n",
              "              title=\"Suggest charts.\"\n",
              "              style=\"display:none;\">\n",
              "\n",
              "<svg xmlns=\"http://www.w3.org/2000/svg\" height=\"24px\"viewBox=\"0 0 24 24\"\n",
              "     width=\"24px\">\n",
              "    <g>\n",
              "        <path d=\"M19 3H5c-1.1 0-2 .9-2 2v14c0 1.1.9 2 2 2h14c1.1 0 2-.9 2-2V5c0-1.1-.9-2-2-2zM9 17H7v-7h2v7zm4 0h-2V7h2v10zm4 0h-2v-4h2v4z\"/>\n",
              "    </g>\n",
              "</svg>\n",
              "      </button>\n",
              "    </div>\n",
              "\n",
              "<style>\n",
              "  .colab-df-quickchart {\n",
              "    background-color: #E8F0FE;\n",
              "    border: none;\n",
              "    border-radius: 50%;\n",
              "    cursor: pointer;\n",
              "    display: none;\n",
              "    fill: #1967D2;\n",
              "    height: 32px;\n",
              "    padding: 0 0 0 0;\n",
              "    width: 32px;\n",
              "  }\n",
              "\n",
              "  .colab-df-quickchart:hover {\n",
              "    background-color: #E2EBFA;\n",
              "    box-shadow: 0px 1px 2px rgba(60, 64, 67, 0.3), 0px 1px 3px 1px rgba(60, 64, 67, 0.15);\n",
              "    fill: #174EA6;\n",
              "  }\n",
              "\n",
              "  [theme=dark] .colab-df-quickchart {\n",
              "    background-color: #3B4455;\n",
              "    fill: #D2E3FC;\n",
              "  }\n",
              "\n",
              "  [theme=dark] .colab-df-quickchart:hover {\n",
              "    background-color: #434B5C;\n",
              "    box-shadow: 0px 1px 3px 1px rgba(0, 0, 0, 0.15);\n",
              "    filter: drop-shadow(0px 1px 2px rgba(0, 0, 0, 0.3));\n",
              "    fill: #FFFFFF;\n",
              "  }\n",
              "</style>\n",
              "\n",
              "    <script>\n",
              "      async function quickchart(key) {\n",
              "        const containerElement = document.querySelector('#' + key);\n",
              "        const charts = await google.colab.kernel.invokeFunction(\n",
              "            'suggestCharts', [key], {});\n",
              "      }\n",
              "    </script>\n",
              "\n",
              "      <script>\n",
              "\n",
              "function displayQuickchartButton(domScope) {\n",
              "  let quickchartButtonEl =\n",
              "    domScope.querySelector('#df-bd08c447-a271-4061-9b95-30e6c5a0f333 button.colab-df-quickchart');\n",
              "  quickchartButtonEl.style.display =\n",
              "    google.colab.kernel.accessAllowed ? 'block' : 'none';\n",
              "}\n",
              "\n",
              "        displayQuickchartButton(document);\n",
              "      </script>\n",
              "      <style>\n",
              "    .colab-df-container {\n",
              "      display:flex;\n",
              "      flex-wrap:wrap;\n",
              "      gap: 12px;\n",
              "    }\n",
              "\n",
              "    .colab-df-convert {\n",
              "      background-color: #E8F0FE;\n",
              "      border: none;\n",
              "      border-radius: 50%;\n",
              "      cursor: pointer;\n",
              "      display: none;\n",
              "      fill: #1967D2;\n",
              "      height: 32px;\n",
              "      padding: 0 0 0 0;\n",
              "      width: 32px;\n",
              "    }\n",
              "\n",
              "    .colab-df-convert:hover {\n",
              "      background-color: #E2EBFA;\n",
              "      box-shadow: 0px 1px 2px rgba(60, 64, 67, 0.3), 0px 1px 3px 1px rgba(60, 64, 67, 0.15);\n",
              "      fill: #174EA6;\n",
              "    }\n",
              "\n",
              "    [theme=dark] .colab-df-convert {\n",
              "      background-color: #3B4455;\n",
              "      fill: #D2E3FC;\n",
              "    }\n",
              "\n",
              "    [theme=dark] .colab-df-convert:hover {\n",
              "      background-color: #434B5C;\n",
              "      box-shadow: 0px 1px 3px 1px rgba(0, 0, 0, 0.15);\n",
              "      filter: drop-shadow(0px 1px 2px rgba(0, 0, 0, 0.3));\n",
              "      fill: #FFFFFF;\n",
              "    }\n",
              "  </style>\n",
              "\n",
              "      <script>\n",
              "        const buttonEl =\n",
              "          document.querySelector('#df-162270bc-d410-4613-938b-97138d372b91 button.colab-df-convert');\n",
              "        buttonEl.style.display =\n",
              "          google.colab.kernel.accessAllowed ? 'block' : 'none';\n",
              "\n",
              "        async function convertToInteractive(key) {\n",
              "          const element = document.querySelector('#df-162270bc-d410-4613-938b-97138d372b91');\n",
              "          const dataTable =\n",
              "            await google.colab.kernel.invokeFunction('convertToInteractive',\n",
              "                                                     [key], {});\n",
              "          if (!dataTable) return;\n",
              "\n",
              "          const docLinkHtml = 'Like what you see? Visit the ' +\n",
              "            '<a target=\"_blank\" href=https://colab.research.google.com/notebooks/data_table.ipynb>data table notebook</a>'\n",
              "            + ' to learn more about interactive tables.';\n",
              "          element.innerHTML = '';\n",
              "          dataTable['output_type'] = 'display_data';\n",
              "          await google.colab.output.renderOutput(dataTable, element);\n",
              "          const docLink = document.createElement('div');\n",
              "          docLink.innerHTML = docLinkHtml;\n",
              "          element.appendChild(docLink);\n",
              "        }\n",
              "      </script>\n",
              "    </div>\n",
              "  </div>\n"
            ]
          },
          "metadata": {},
          "execution_count": 129
        }
      ]
    },
    {
      "cell_type": "code",
      "source": [
        "# function remove outlier\n",
        "def outlier(dataset, col):\n",
        "  Q1 = dataset[col].quantile(0.25)\n",
        "  Q3 = dataset[col].quantile(0.75)\n",
        "  IQR = Q3-Q1\n",
        "  lower_bound = Q1 - 1.5 * IQR\n",
        "  upper_bound = Q3 + 1.5 * IQR\n",
        "  dataset = dataset[(dataset['Electricity Usage'] >= lower_bound) & (dataset['Electricity Usage'] <= upper_bound)]\n",
        "\n",
        "  print(\"Jumlah data:\", len(dataset))"
      ],
      "metadata": {
        "id": "9ksi4zHBHx7g"
      },
      "execution_count": null,
      "outputs": []
    },
    {
      "cell_type": "code",
      "source": [
        "outlier(df,'Current Solar')\n",
        "outlier(df,'Electricity Usage')\n",
        "outlier(df,'Peak Electric Demand')\n",
        "outlier(df,'Building Area')\n",
        "outlier(df,'Natural Gas Usage')\n",
        "outlier(df,'Energy Use Intensity')"
      ],
      "metadata": {
        "id": "n9KPRBxrLPVL",
        "colab": {
          "base_uri": "https://localhost:8080/"
        },
        "outputId": "8fcdb750-67ad-42fe-997e-20f09de73787"
      },
      "execution_count": null,
      "outputs": [
        {
          "output_type": "stream",
          "name": "stdout",
          "text": [
            "Jumlah data: 0\n",
            "Jumlah data: 431\n",
            "Jumlah data: 4\n",
            "Jumlah data: 144\n",
            "Jumlah data: 4\n",
            "Jumlah data: 0\n"
          ]
        }
      ]
    },
    {
      "cell_type": "code",
      "source": [
        "# g = sns.pairplot(df)"
      ],
      "metadata": {
        "id": "T8tUDzEVMTUw"
      },
      "execution_count": null,
      "outputs": []
    },
    {
      "cell_type": "code",
      "source": [
        "# pip install pillow\n"
      ],
      "metadata": {
        "id": "P0MhP4dasL9B"
      },
      "execution_count": null,
      "outputs": []
    },
    {
      "cell_type": "code",
      "source": [
        "fig = plt.figure(figsize=(9, 9))\n",
        "sns.heatmap(df.corr(), annot=True)\n",
        "plt.savefig('corr.tiff', format='tiff', dpi=300, bbox_inches = 'tight')"
      ],
      "metadata": {
        "colab": {
          "base_uri": "https://localhost:8080/",
          "height": 952
        },
        "id": "8k-Etoc7NTZH",
        "outputId": "33c4d14d-c553-4818-89f7-b1a97d295026"
      },
      "execution_count": null,
      "outputs": [
        {
          "output_type": "stream",
          "name": "stderr",
          "text": [
            "<ipython-input-134-3870896b9727>:2: FutureWarning: The default value of numeric_only in DataFrame.corr is deprecated. In a future version, it will default to False. Select only valid columns or specify the value of numeric_only to silence this warning.\n",
            "  sns.heatmap(df.corr(), annot=True)\n"
          ]
        },
        {
          "output_type": "display_data",
          "data": {
            "text/plain": [
              "<Figure size 900x900 with 2 Axes>"
            ],
            "image/png": "[encoded data removed]"
          },
          "metadata": {}
        }
      ]
    },
    {
      "cell_type": "markdown",
      "source": [
        "# Function model"
      ],
      "metadata": {
        "id": "FG11tkBI2XId"
      }
    },
    {
      "cell_type": "code",
      "source": [
        "# Linear REgression\n",
        "def lr(X_train, X_test, X_val, y_train, y_test, y_val):\n",
        "  lr = LinearRegression()\n",
        "  lr.fit(X_train, y_train)\n",
        "  score = lr.score(X_train, y_train)\n",
        "\n",
        "  y_pred_train = lr.predict(X_train)\n",
        "  y_pred_test = lr.predict(X_test)\n",
        "  y_pred_val = lr.predict(X_val)\n",
        "\n",
        "  rmse_train = mean_squared_error(y_train, y_pred_train, squared=False)\n",
        "  rmse_test = mean_squared_error(y_test, y_pred_test, squared=False)\n",
        "  rmse_val = mean_squared_error(y_val, y_pred_val, squared=False)\n",
        "\n",
        "  mae_train = mean_absolute_error(y_train, y_pred_train)\n",
        "  mae_test = mean_absolute_error(y_test, y_pred_test)\n",
        "  mae_val = mean_absolute_error(y_val, y_pred_val)\n",
        "\n",
        "  # mape_train = np.mean(np.abs((y_train - y_pred_train) / y_train)) * 100\n",
        "  # mape_test = np.mean(np.abs((y_test - y_pred_test) / y_test)) * 100\n",
        "  # mape_val = np.mean(np.abs((y_val - y_pred_val) / y_val)) * 100\n",
        "  mape_train = 100 * (mae_train / np.abs(y_train.mean()))\n",
        "  mape_test = 100 * (mae_test / np.abs(y_train.mean()))\n",
        "  mape_val = 100 * (mae_val / np.abs(y_train.mean()))\n",
        "\n",
        "  print(\"Score:\", score)\n",
        "  print(\"Evaluasi data train:\")\n",
        "  print(\"RMSE:\", rmse_train)\n",
        "  print(\"MAE:\", mae_train)\n",
        "  print(\"MAPE:\", mape_train)\n",
        "  print()\n",
        "  print(\"Evaluasi data test:\")\n",
        "  print(\"RMSE:\", rmse_test)\n",
        "  print(\"MAE:\", mae_test)\n",
        "  print(\"MAPE:\", mape_test)\n",
        "  print()\n",
        "  print(\"Evaluasi data validation:\")\n",
        "  print(\"RMSE:\", rmse_val)\n",
        "  print(\"MAE:\", mae_val)\n",
        "  print(\"MAPE:\", mape_val)"
      ],
      "metadata": {
        "id": "sWwr8Wu80zdk"
      },
      "execution_count": null,
      "outputs": []
    },
    {
      "cell_type": "code",
      "source": [
        "# Lasso Regression\n",
        "def lasso(X_train, X_test, X_val, y_train, y_test, y_val, alpha):\n",
        "  lasso = Lasso(alpha=alpha)\n",
        "  lasso.fit(X_train, y_train)\n",
        "  score = lasso.score(X_train, y_train)\n",
        "\n",
        "  y_pred_train = lasso.predict(X_train)\n",
        "  y_pred_test = lasso.predict(X_test)\n",
        "  y_pred_val = lasso.predict(X_val)\n",
        "\n",
        "  rmse_train = mean_squared_error(y_train, y_pred_train, squared=False)\n",
        "  rmse_test = mean_squared_error(y_test, y_pred_test, squared=False)\n",
        "  rmse_val = mean_squared_error(y_val, y_pred_val, squared=False)\n",
        "\n",
        "  mae_train = mean_absolute_error(y_train, y_pred_train)\n",
        "  mae_test = mean_absolute_error(y_test, y_pred_test)\n",
        "  mae_val = mean_absolute_error(y_val, y_pred_val)\n",
        "\n",
        "  # mape_train = np.mean(np.abs((y_train - y_pred_train) / y_train)) * 100\n",
        "  # mape_test = np.mean(np.abs((y_test - y_pred_test) / y_test)) * 100\n",
        "  # mape_val = np.mean(np.abs((y_val - y_pred_val) / y_val)) * 100\n",
        "  mape_train = 100 * (mae_train / np.abs(y_train.mean()))\n",
        "  mape_test = 100 * (mae_test / np.abs(y_train.mean()))\n",
        "  mape_val = 100 * (mae_val / np.abs(y_train.mean()))\n",
        "  print(\"Score:\", score)\n",
        "  print(\"Evaluasi data train:\")\n",
        "  print(\"RMSE:\", rmse_train)\n",
        "  print(\"MAE:\", mae_train)\n",
        "  print(\"MAPE:\", mape_train)\n",
        "  print()\n",
        "  print(\"Evaluasi data test:\")\n",
        "  print(\"RMSE:\", rmse_test)\n",
        "  print(\"MAE:\", mae_test)\n",
        "  print(\"MAPE:\", mape_test)\n",
        "  print()\n",
        "  print(\"Evaluasi data validation:\")\n",
        "  print(\"RMSE:\", rmse_val)\n",
        "  print(\"MAE:\", mae_val)\n",
        "  print(\"MAPE:\", mape_val)"
      ],
      "metadata": {
        "id": "1X8I82pxvRfI"
      },
      "execution_count": null,
      "outputs": []
    },
    {
      "cell_type": "code",
      "source": [
        "# Gradien Boosting Regression\n",
        "def gbr(X_train, X_test, X_val, y_train, y_test, y_val):\n",
        "  gbr = GradientBoostingRegressor()\n",
        "  gbr.fit(X_train, y_train)\n",
        "  score = gbr.score(X_train, y_train)\n",
        "\n",
        "  y_pred_train = gbr.predict(X_train)\n",
        "  y_pred_test = gbr.predict(X_test)\n",
        "  y_pred_val = gbr.predict(X_val)\n",
        "\n",
        "  rmse_train = mean_squared_error(y_train, y_pred_train, squared=False)\n",
        "  rmse_test = mean_squared_error(y_test, y_pred_test, squared=False)\n",
        "  rmse_val = mean_squared_error(y_val, y_pred_val, squared=False)\n",
        "\n",
        "  mae_train = mean_absolute_error(y_train, y_pred_train)\n",
        "  mae_test = mean_absolute_error(y_test, y_pred_test)\n",
        "  mae_val = mean_absolute_error(y_val, y_pred_val)\n",
        "\n",
        "  # mape_train = np.mean(np.abs((y_train - y_pred_train) / y_train)) * 100\n",
        "  # mape_test = np.mean(np.abs((y_test - y_pred_test) / y_test)) * 100\n",
        "  # mape_val = np.mean(np.abs((y_val - y_pred_val) / y_val)) * 100\n",
        "  mape_train = 100 * (mae_train / np.abs(y_train.mean()))\n",
        "  mape_test = 100 * (mae_test / np.abs(y_train.mean()))\n",
        "  mape_val = 100 * (mae_val / np.abs(y_train.mean()))\n",
        "  print(\"Score:\", score)\n",
        "  print(\"Evaluasi data train:\")\n",
        "  print(\"RMSE:\", rmse_train)\n",
        "  print(\"MAE:\", mae_train)\n",
        "  print(\"MAPE:\", mape_train)\n",
        "  print()\n",
        "  print(\"Evaluasi data test:\")\n",
        "  print(\"RMSE:\", rmse_test)\n",
        "  print(\"MAE:\", mae_test)\n",
        "  print(\"MAPE:\", mape_test)\n",
        "  print()\n",
        "  print(\"Evaluasi data validation:\")\n",
        "  print(\"RMSE:\", rmse_val)\n",
        "  print(\"MAE:\", mae_val)\n",
        "  print(\"MAPE:\", mape_val)"
      ],
      "metadata": {
        "id": "rkF7k1qmO0tU"
      },
      "execution_count": null,
      "outputs": []
    },
    {
      "cell_type": "code",
      "source": [
        "# Support Vector Machine\n",
        "def svm(X_train, X_test, X_val, y_train, y_test, y_val):\n",
        "  svm = SVR()\n",
        "  svm.fit(X_train,y_train)\n",
        "  score = svm.score(X_train, y_train)\n",
        "\n",
        "  y_pred_train = svm.predict(X_train)\n",
        "  y_pred_test = svm.predict(X_test)\n",
        "  y_pred_val = svm.predict(X_val)\n",
        "\n",
        "  rmse_train = mean_squared_error(y_train, y_pred_train, squared=False)\n",
        "  rmse_test = mean_squared_error(y_test, y_pred_test, squared=False)\n",
        "  rmse_val = mean_squared_error(y_val, y_pred_val, squared=False)\n",
        "\n",
        "  mae_train = mean_absolute_error(y_train, y_pred_train)\n",
        "  mae_test = mean_absolute_error(y_test, y_pred_test)\n",
        "  mae_val = mean_absolute_error(y_val, y_pred_val)\n",
        "\n",
        "  # mape_train = np.mean(np.abs((y_train - y_pred_train) / y_train)) * 100\n",
        "  # mape_test = np.mean(np.abs((y_test - y_pred_test) / y_test)) * 100\n",
        "  # mape_val = np.mean(np.abs((y_val - y_pred_val) / y_val)) * 100\n",
        "  mape_train = 100 * (mae_train / np.abs(y_train.mean()))\n",
        "  mape_test = 100 * (mae_test / np.abs(y_train.mean()))\n",
        "  mape_val = 100 * (mae_val / np.abs(y_train.mean()))\n",
        "  print(\"Score:\", score)\n",
        "  print(\"Evaluasi data train:\")\n",
        "  print(\"RMSE:\", rmse_train)\n",
        "  print(\"MAE:\", mae_train)\n",
        "  print(\"MAPE:\", mape_train)\n",
        "  print()\n",
        "  print(\"Evaluasi data test:\")\n",
        "  print(\"RMSE:\", rmse_test)\n",
        "  print(\"MAE:\", mae_test)\n",
        "  print(\"MAPE:\", mape_test)\n",
        "  print()\n",
        "  print(\"Evaluasi data validation:\")\n",
        "  print(\"RMSE:\", rmse_val)\n",
        "  print(\"MAE:\", mae_val)\n",
        "  print(\"MAPE:\", mape_val)"
      ],
      "metadata": {
        "id": "9-oKIfyHPd_r"
      },
      "execution_count": null,
      "outputs": []
    },
    {
      "cell_type": "code",
      "source": [
        "# Random Forest regression\n",
        "def rfr(X_train, X_test, X_val, y_train, y_test, y_val):\n",
        "  rfr = RandomForestRegressor()\n",
        "  rfr.fit(X_train, y_train)\n",
        "  score = rfr.score(X_train, y_train)\n",
        "\n",
        "  y_pred_train = rfr.predict(X_train)\n",
        "  y_pred_test = rfr.predict(X_test)\n",
        "  y_pred_val = rfr.predict(X_val)\n",
        "\n",
        "  rmse_train = mean_squared_error(y_train, y_pred_train, squared=False)\n",
        "  rmse_test = mean_squared_error(y_test, y_pred_test, squared=False)\n",
        "  rmse_val = mean_squared_error(y_val, y_pred_val, squared=False)\n",
        "\n",
        "  mae_train = mean_absolute_error(y_train, y_pred_train)\n",
        "  mae_test = mean_absolute_error(y_test, y_pred_test)\n",
        "  mae_val = mean_absolute_error(y_val, y_pred_val)\n",
        "\n",
        "  # mape_train = np.mean(np.abs((y_train - y_pred_train) / y_train)) * 100\n",
        "  # mape_test = np.mean(np.abs((y_test - y_pred_test) / y_test)) * 100\n",
        "  # mape_val = np.mean(np.abs((y_val - y_pred_val) / y_val)) * 100\n",
        "  mape_train = 100 * (mae_train / np.abs(y_train.mean()))\n",
        "  mape_test = 100 * (mae_test / np.abs(y_train.mean()))\n",
        "  mape_val = 100 * (mae_val / np.abs(y_train.mean()))\n",
        "  print(\"Score:\", score)\n",
        "  print(\"Evaluasi data train:\")\n",
        "  print(\"RMSE:\", rmse_train)\n",
        "  print(\"MAE:\", mae_train)\n",
        "  print(\"MAPE:\", mape_train)\n",
        "  print()\n",
        "  print(\"Evaluasi data test:\")\n",
        "  print(\"RMSE:\", rmse_test)\n",
        "  print(\"MAE:\", mae_test)\n",
        "  print(\"MAPE:\", mape_test)\n",
        "  print()\n",
        "  print(\"Evaluasi data validation:\")\n",
        "  print(\"RMSE:\", rmse_val)\n",
        "  print(\"MAE:\", mae_val)\n",
        "  print(\"MAPE:\", mape_val)\n",
        "\n"
      ],
      "metadata": {
        "id": "Volw2O5pP8pY"
      },
      "execution_count": null,
      "outputs": []
    },
    {
      "cell_type": "markdown",
      "source": [
        "#modelling all fitur"
      ],
      "metadata": {
        "id": "TIjI-n7PSU0p"
      }
    },
    {
      "cell_type": "markdown",
      "source": [
        "## Prep data all fitur\n"
      ],
      "metadata": {
        "id": "Dsnm2mwFq3Zq"
      }
    },
    {
      "cell_type": "code",
      "source": [
        "df_prep = df.copy()"
      ],
      "metadata": {
        "id": "8vADqGo4IY5e"
      },
      "execution_count": null,
      "outputs": []
    },
    {
      "cell_type": "code",
      "source": [
        "# split data\n",
        "X = df_prep.drop('Electricity Usage', axis=1)\n",
        "y = df_prep['Electricity Usage']\n",
        "\n",
        "# 80:20 split\n",
        "X_train, X_rem, y_train, y_rem = train_test_split(X, y, test_size=0.2, random_state=42)\n",
        "# 20 split validation\n",
        "X_test, X_val, y_test, y_val = train_test_split(X_rem, y_rem, test_size=0.5, random_state=42)\n"
      ],
      "metadata": {
        "id": "splycVRvLXiP"
      },
      "execution_count": null,
      "outputs": []
    },
    {
      "cell_type": "code",
      "source": [
        "X.columns"
      ],
      "metadata": {
        "colab": {
          "base_uri": "https://localhost:8080/"
        },
        "id": "ddtDQ-5GVv-l",
        "outputId": "b516252f-67de-4cfa-aec7-3db3fc499845"
      },
      "execution_count": null,
      "outputs": [
        {
          "output_type": "execute_result",
          "data": {
            "text/plain": [
              "Index(['Site Name', 'Department', 'Current Solar', 'Electric Utility',\n",
              "       'Peak Electric Demand', 'Building Type', 'Building Area',\n",
              "       'Natural Gas Usage', 'Energy Use Intensity', 'Address'],\n",
              "      dtype='object')"
            ]
          },
          "metadata": {},
          "execution_count": 163
        }
      ]
    },
    {
      "cell_type": "code",
      "source": [
        "print(X_train.shape)\n",
        "print(X_val.shape)\n",
        "print(X_test.shape)"
      ],
      "metadata": {
        "colab": {
          "base_uri": "https://localhost:8080/"
        },
        "id": "Yw8JCSObclrV",
        "outputId": "2827bdbb-601d-4cc0-e344-4ebef13b2b64"
      },
      "execution_count": null,
      "outputs": [
        {
          "output_type": "stream",
          "name": "stdout",
          "text": [
            "(402, 10)\n",
            "(51, 10)\n",
            "(50, 10)\n"
          ]
        }
      ]
    },
    {
      "cell_type": "code",
      "source": [
        "# encoding categorical\n",
        "encoder = LabelEncoder()\n",
        "#train\n",
        "X_train['Site Name'] = encoder.fit_transform(X_train['Site Name'])\n",
        "X_train['Department'] = encoder.fit_transform(X_train['Department'])\n",
        "X_train['Electric Utility'] = encoder.fit_transform(X_train['Electric Utility'])\n",
        "X_train['Building Type'] = encoder.fit_transform(X_train['Building Type'])\n",
        "X_train['Address'] = encoder.fit_transform(X_train['Address'])\n",
        "#test\n",
        "X_test['Site Name'] = encoder.fit_transform(X_test['Site Name'])\n",
        "X_test['Department'] = encoder.fit_transform(X_test['Department'])\n",
        "X_test['Electric Utility'] = encoder.fit_transform(X_test['Electric Utility'])\n",
        "X_test['Building Type'] = encoder.fit_transform(X_test['Building Type'])\n",
        "X_test['Address'] = encoder.fit_transform(X_test['Address'])\n",
        "#val\n",
        "X_val['Site Name'] = encoder.fit_transform(X_val['Site Name'])\n",
        "X_val['Department'] = encoder.fit_transform(X_val['Department'])\n",
        "X_val['Electric Utility'] = encoder.fit_transform(X_val['Electric Utility'])\n",
        "X_val['Building Type'] = encoder.fit_transform(X_val['Building Type'])\n",
        "X_val['Address'] = encoder.fit_transform(X_val['Address'])"
      ],
      "metadata": {
        "id": "KP2jsU46rL6-"
      },
      "execution_count": null,
      "outputs": []
    },
    {
      "cell_type": "markdown",
      "source": [
        "##FEATURE IMPORTANCE"
      ],
      "metadata": {
        "id": "o62G-4yeSBDp"
      }
    },
    {
      "cell_type": "code",
      "source": [
        "# Menampilkan fitur penting\n",
        "rf = RandomForestRegressor()\n",
        "rf.fit(X_train, y_train)\n",
        "plt.figure(figsize=(10,8))\n",
        "feat_importances = pd.Series(rf.feature_importances_, index=X_train.columns)\n",
        "feat_importances.nlargest(20).plot(kind='barh')"
      ],
      "metadata": {
        "colab": {
          "base_uri": "https://localhost:8080/",
          "height": 693
        },
        "id": "3GGyd_AKSDPQ",
        "outputId": "7dec742c-b16e-47ca-bca5-5cdc3c20a41e"
      },
      "execution_count": null,
      "outputs": [
        {
          "output_type": "execute_result",
          "data": {
            "text/plain": [
              "<Axes: >"
            ]
          },
          "metadata": {},
          "execution_count": 166
        },
        {
          "output_type": "display_data",
          "data": {
            "text/plain": [
              "<Figure size 1000x800 with 1 Axes>"
            ],
            "image/png": "[encoded data removed]"
          },
          "metadata": {}
        }
      ]
    },
    {
      "cell_type": "code",
      "source": [
        "# min max scaler train data\n",
        "scaler = MinMaxScaler()\n",
        "X_train = scaler.fit_transform(X_train[['Current Solar', 'Peak Electric Demand', 'Building Area', 'Natural Gas Usage', 'Energy Use Intensity']])\n",
        "\n",
        "# min max scaler pada test val data\n",
        "X_test = scaler.transform(X_test[['Current Solar', 'Peak Electric Demand', 'Building Area', 'Natural Gas Usage', 'Energy Use Intensity']])\n",
        "X_val = scaler.transform(X_val[['Current Solar', 'Peak Electric Demand', 'Building Area', 'Natural Gas Usage', 'Energy Use Intensity']])"
      ],
      "metadata": {
        "id": "L5p8prrwofnM"
      },
      "execution_count": null,
      "outputs": []
    },
    {
      "cell_type": "markdown",
      "source": [
        "## modelling"
      ],
      "metadata": {
        "id": "BgSkqW3_OX2P"
      }
    },
    {
      "cell_type": "code",
      "source": [
        "lr(X_train, X_test, X_val, y_train, y_test, y_val)"
      ],
      "metadata": {
        "colab": {
          "base_uri": "https://localhost:8080/"
        },
        "id": "aANh-i8RQpDc",
        "outputId": "eb0f932b-77ec-498a-d0b3-525fe98fc5f5"
      },
      "execution_count": null,
      "outputs": [
        {
          "output_type": "stream",
          "name": "stdout",
          "text": [
            "Score: 0.8206665790811654\n",
            "Evaluasi data train:\n",
            "RMSE: 5916601.219860564\n",
            "MAE: 1582308.4954833814\n",
            "MAPE: 131.5051145205305\n",
            "\n",
            "Evaluasi data test:\n",
            "RMSE: 11339795.114129992\n",
            "MAE: 2721719.9025298227\n",
            "MAPE: 226.2012044406359\n",
            "\n",
            "Evaluasi data validation:\n",
            "RMSE: 5599668.116355161\n",
            "MAE: 1574120.1749591737\n",
            "MAPE: 130.82458601971004\n"
          ]
        }
      ]
    },
    {
      "cell_type": "code",
      "source": [
        "lasso(X_train, X_test, X_val, y_train, y_test, y_val, 1)"
      ],
      "metadata": {
        "colab": {
          "base_uri": "https://localhost:8080/"
        },
        "id": "eR2EemKJQo41",
        "outputId": "1af81ae5-c510-4b8e-feb0-2b0d162efbe3"
      },
      "execution_count": null,
      "outputs": [
        {
          "output_type": "stream",
          "name": "stdout",
          "text": [
            "Score: 0.8206665790516975\n",
            "Evaluasi data train:\n",
            "RMSE: 5916601.220346668\n",
            "MAE: 1582303.3945719744\n",
            "MAPE: 131.5046905855389\n",
            "\n",
            "Evaluasi data test:\n",
            "RMSE: 11339935.344609125\n",
            "MAE: 2721730.540805701\n",
            "MAPE: 226.2020885840831\n",
            "\n",
            "Evaluasi data validation:\n",
            "RMSE: 5599663.795869572\n",
            "MAE: 1574113.5830240184\n",
            "MAPE: 130.82403816624785\n"
          ]
        }
      ]
    },
    {
      "cell_type": "code",
      "source": [
        "gbr(X_train, X_test, X_val, y_train, y_test, y_val)"
      ],
      "metadata": {
        "colab": {
          "base_uri": "https://localhost:8080/"
        },
        "id": "vnOBgtCjQos7",
        "outputId": "2985728f-1e84-4fd3-95d4-97c0d39c8213"
      },
      "execution_count": null,
      "outputs": [
        {
          "output_type": "stream",
          "name": "stdout",
          "text": [
            "Score: 0.9989902261031063\n",
            "Evaluasi data train:\n",
            "RMSE: 443970.1300304849\n",
            "MAE: 99851.79690307008\n",
            "MAPE: 8.2986484773992\n",
            "\n",
            "Evaluasi data test:\n",
            "RMSE: 14698904.550001556\n",
            "MAE: 2701486.455419375\n",
            "MAPE: 224.51960961446918\n",
            "\n",
            "Evaluasi data validation:\n",
            "RMSE: 4762008.511902432\n",
            "MAE: 814107.325096381\n",
            "MAPE: 67.6601796200915\n"
          ]
        }
      ]
    },
    {
      "cell_type": "code",
      "source": [
        "svm(X_train, X_test, X_val, y_train, y_test, y_val)"
      ],
      "metadata": {
        "colab": {
          "base_uri": "https://localhost:8080/"
        },
        "id": "_YE_Ad21QohD",
        "outputId": "1e25238d-c505-42ec-8664-5bad627689a9"
      },
      "execution_count": null,
      "outputs": [
        {
          "output_type": "stream",
          "name": "stdout",
          "text": [
            "Score: -0.006359296933781566\n",
            "Evaluasi data train:\n",
            "RMSE: 14015810.393876722\n",
            "MAE: 1168930.7031060748\n",
            "MAPE: 97.14942845678671\n",
            "\n",
            "Evaluasi data test:\n",
            "RMSE: 3853593.606482089\n",
            "MAE: 1059275.6444238783\n",
            "MAPE: 88.03603426664019\n",
            "\n",
            "Evaluasi data validation:\n",
            "RMSE: 5455624.854458304\n",
            "MAE: 1096124.2930603556\n",
            "MAPE: 91.09851277364358\n"
          ]
        }
      ]
    },
    {
      "cell_type": "code",
      "source": [
        "rfr(X_train, X_test, X_val, y_train, y_test, y_val)"
      ],
      "metadata": {
        "colab": {
          "base_uri": "https://localhost:8080/"
        },
        "id": "hgD3wZDsQoWY",
        "outputId": "1afe47fc-70fd-4147-d81f-37399da4a2de"
      },
      "execution_count": null,
      "outputs": [
        {
          "output_type": "stream",
          "name": "stdout",
          "text": [
            "Score: 0.837951404375468\n",
            "Evaluasi data train:\n",
            "RMSE: 5624246.128090954\n",
            "MAE: 466824.21630454314\n",
            "MAPE: 38.79759996316761\n",
            "\n",
            "Evaluasi data test:\n",
            "RMSE: 11948524.48828093\n",
            "MAE: 2431329.187188541\n",
            "MAPE: 202.0669320243155\n",
            "\n",
            "Evaluasi data validation:\n",
            "RMSE: 4491164.760531504\n",
            "MAE: 773965.9643981826\n",
            "MAPE: 64.32404494679956\n"
          ]
        }
      ]
    },
    {
      "cell_type": "markdown",
      "source": [
        "# modelling just high correlation based on Electricity Usage"
      ],
      "metadata": {
        "id": "9hpE0qZhsaJD"
      }
    },
    {
      "cell_type": "markdown",
      "source": [
        "## prepdata"
      ],
      "metadata": {
        "id": "RSSidRf5s77V"
      }
    },
    {
      "cell_type": "code",
      "source": [
        "# split data\n",
        "X2 = df_prep[['Current Solar','Energy Use Intensity']]\n",
        "y2 = df_prep['Electricity Usage']\n",
        "\n",
        "# 80:20 split\n",
        "X2_train, X2_rem, y2_train, y2_rem = train_test_split(X2, y2, test_size=0.2, random_state=42)\n",
        "# 20 split validation\n",
        "X2_test, X2_val, y2_test, y2_val = train_test_split(X2_rem, y2_rem, test_size=0.5, random_state=42)\n"
      ],
      "metadata": {
        "id": "QA6_PfRmsY5-"
      },
      "execution_count": null,
      "outputs": []
    },
    {
      "cell_type": "code",
      "source": [
        "# min max scaler train data\n",
        "scaler = MinMaxScaler()\n",
        "X2_train = scaler.fit_transform(X2_train)\n",
        "\n",
        "# min max scaler pada test val data\n",
        "X2_test = scaler.transform(X2_test)\n",
        "X2_val = scaler.transform(X2_val)"
      ],
      "metadata": {
        "id": "Hd8LQ7FWthxF"
      },
      "execution_count": null,
      "outputs": []
    },
    {
      "cell_type": "markdown",
      "source": [
        "## modeling"
      ],
      "metadata": {
        "id": "4h-Mg8k5Sh6O"
      }
    },
    {
      "cell_type": "code",
      "source": [
        "lr(X2_train, X2_test, X2_val, y2_train, y2_test, y2_val)"
      ],
      "metadata": {
        "colab": {
          "base_uri": "https://localhost:8080/"
        },
        "id": "h5fkCWqTShAJ",
        "outputId": "55aa212e-211c-4328-f315-237a50913dc9"
      },
      "execution_count": null,
      "outputs": [
        {
          "output_type": "stream",
          "name": "stdout",
          "text": [
            "Score: 0.7052904091392598\n",
            "Evaluasi data train:\n",
            "RMSE: 7584707.147791813\n",
            "MAE: 1209693.3223846671\n",
            "MAPE: 100.5371957168939\n",
            "\n",
            "Evaluasi data test:\n",
            "RMSE: 3685348.7269324935\n",
            "MAE: 1118284.402774306\n",
            "MAPE: 92.94023186574155\n",
            "\n",
            "Evaluasi data validation:\n",
            "RMSE: 5446673.830414233\n",
            "MAE: 1172276.5830297915\n",
            "MAPE: 97.4275033857884\n"
          ]
        }
      ]
    },
    {
      "cell_type": "code",
      "source": [
        "lasso(X2_train, X2_test, X2_val, y2_train, y2_test, y2_val,1)"
      ],
      "metadata": {
        "colab": {
          "base_uri": "https://localhost:8080/"
        },
        "id": "hx0Xg_y5SsfA",
        "outputId": "652a0729-0dfe-4b68-c559-86320e79963d"
      },
      "execution_count": null,
      "outputs": [
        {
          "output_type": "stream",
          "name": "stdout",
          "text": [
            "Score: 0.705290409136794\n",
            "Evaluasi data train:\n",
            "RMSE: 7584707.147823543\n",
            "MAE: 1209691.6758358763\n",
            "MAPE: 100.53705887279054\n",
            "\n",
            "Evaluasi data test:\n",
            "RMSE: 3685348.2635725555\n",
            "MAE: 1118282.280648781\n",
            "MAPE: 92.9400554966195\n",
            "\n",
            "Evaluasi data validation:\n",
            "RMSE: 5446673.463485031\n",
            "MAE: 1172273.8691855946\n",
            "MAPE: 97.42727783913114\n"
          ]
        }
      ]
    },
    {
      "cell_type": "code",
      "source": [
        "gbr(X2_train, X2_test, X2_val, y2_train, y2_test, y2_val)"
      ],
      "metadata": {
        "colab": {
          "base_uri": "https://localhost:8080/"
        },
        "id": "C0Hmps1QSxH8",
        "outputId": "d282a18d-7f90-45b5-f7b2-33f9164409b2"
      },
      "execution_count": null,
      "outputs": [
        {
          "output_type": "stream",
          "name": "stdout",
          "text": [
            "Score: 0.9965029297642494\n",
            "Evaluasi data train:\n",
            "RMSE: 826216.4919935531\n",
            "MAE: 275183.26878493314\n",
            "MAPE: 22.870386766546073\n",
            "\n",
            "Evaluasi data test:\n",
            "RMSE: 3673161.045862623\n",
            "MAE: 1181651.5140751675\n",
            "MAPE: 98.2066506786604\n",
            "\n",
            "Evaluasi data validation:\n",
            "RMSE: 4815393.478875519\n",
            "MAE: 1057297.559650948\n",
            "MAPE: 87.87163632190436\n"
          ]
        }
      ]
    },
    {
      "cell_type": "code",
      "source": [
        "svm(X2_train, X2_test, X2_val, y2_train, y2_test, y2_val)"
      ],
      "metadata": {
        "colab": {
          "base_uri": "https://localhost:8080/"
        },
        "id": "agQWcwCfS0LR",
        "outputId": "d40cd5e8-16e1-4a32-f4a1-aa4a0d56f5d0"
      },
      "execution_count": null,
      "outputs": [
        {
          "output_type": "stream",
          "name": "stdout",
          "text": [
            "Score: -0.006359419462329319\n",
            "Evaluasi data train:\n",
            "RMSE: 14015811.247119121\n",
            "MAE: 1168931.8304838357\n",
            "MAPE: 97.14952215276443\n",
            "\n",
            "Evaluasi data test:\n",
            "RMSE: 3853597.3421769333\n",
            "MAE: 1059276.7927991766\n",
            "MAPE: 88.03612970771603\n",
            "\n",
            "Evaluasi data validation:\n",
            "RMSE: 5455625.841002946\n",
            "MAE: 1096125.7091149255\n",
            "MAPE: 91.09863046145156\n"
          ]
        }
      ]
    },
    {
      "cell_type": "code",
      "source": [
        "rfr(X2_train, X2_test, X2_val, y2_train, y2_test, y2_val)"
      ],
      "metadata": {
        "colab": {
          "base_uri": "https://localhost:8080/"
        },
        "id": "eh9gyimrS3hP",
        "outputId": "e4af3948-f2a6-48de-d4c1-c920bc0a489b"
      },
      "execution_count": null,
      "outputs": [
        {
          "output_type": "stream",
          "name": "stdout",
          "text": [
            "Score: 0.8554831101113045\n",
            "Evaluasi data train:\n",
            "RMSE: 5311301.871255948\n",
            "MAE: 604748.7643373464\n",
            "MAPE: 50.260461684519406\n",
            "\n",
            "Evaluasi data test:\n",
            "RMSE: 3586911.3911902\n",
            "MAE: 1180644.3648251123\n",
            "MAPE: 98.12294685109084\n",
            "\n",
            "Evaluasi data validation:\n",
            "RMSE: 4821251.423768886\n",
            "MAE: 1045886.7505648456\n",
            "MAPE: 86.92328790569908\n"
          ]
        }
      ]
    },
    {
      "cell_type": "markdown",
      "source": [
        "#HYPERPARAMETER TUNNING function\n"
      ],
      "metadata": {
        "id": "2V9r138ogEM4"
      }
    },
    {
      "cell_type": "code",
      "source": [
        "# split data\n",
        "X3 = df_prep[['Current Solar','Energy Use Intensity']]\n",
        "y3 = df_prep['Electricity Usage']\n",
        "\n",
        "# 80:20 split\n",
        "X3_train, X3_rem, y3_train, y3_rem = train_test_split(X3, y3, test_size=0.2, random_state=42)\n",
        "# 20 split validation\n",
        "X3_test, X3_val, y3_test, y3_val = train_test_split(X3_rem, y3_rem, test_size=0.5, random_state=42)\n"
      ],
      "metadata": {
        "id": "58K5pZR3pGuc"
      },
      "execution_count": null,
      "outputs": []
    },
    {
      "cell_type": "code",
      "source": [
        "# min max scaler train data\n",
        "scaler = MinMaxScaler()\n",
        "X3_train = scaler.fit_transform(X3_train)\n",
        "\n",
        "# min max scaler pada test val data\n",
        "X3_test = scaler.transform(X3_test)\n",
        "X3_val = scaler.transform(X3_val)"
      ],
      "metadata": {
        "id": "g93qqThSpM_e"
      },
      "execution_count": null,
      "outputs": []
    },
    {
      "cell_type": "code",
      "source": [
        "def lr_tuning(X_train, y_train):\n",
        "    # Buat model Linear Regression\n",
        "    lr = LinearRegression()\n",
        "\n",
        "    param_grid = {\n",
        "    }\n",
        "\n",
        "    grid_search = GridSearchCV(estimator=lr, param_grid=param_grid, cv=5, n_jobs=-1)\n",
        "\n",
        "    grid_search.fit(X_train, y_train)\n",
        "    print(\"Best Parameters:\", grid_search.best_params_)\n",
        "\n",
        "    print(\"Best RMSE:\", np.sqrt(-grid_search.best_score_))\n",
        "\n",
        "    best_model = grid_search.best_estimator_\n",
        "    print(best_model)\n",
        "\n",
        "    y2_val_pred = best_model.predict(X2_val)\n",
        "    val_rmse = mean_squared_error(y2_val, y2_val_pred, squared=False)\n",
        "    print(\"Validation RMSE:\", val_rmse)\n",
        "\n",
        "    y2_test_pred = best_model.predict(X2_test)\n",
        "    test_rmse = mean_squared_error(y2_test, y2_test_pred, squared=False)\n",
        "    print(\"Test RMSE:\", test_rmse)\n",
        "\n",
        "    # return best_model"
      ],
      "metadata": {
        "id": "6LH57XDJgGDW"
      },
      "execution_count": null,
      "outputs": []
    },
    {
      "cell_type": "code",
      "source": [
        "def lasso_tuning(X_train, y_train):\n",
        "    # Buat model Lasso Regression\n",
        "    lasso = Lasso()\n",
        "\n",
        "    param_grid = {\n",
        "        'alpha': [0.1, 0.01, 0.001, 0.0001]\n",
        "    }\n",
        "\n",
        "    grid_search = GridSearchCV(estimator=lasso, param_grid=param_grid, cv=5, n_jobs=-1)\n",
        "\n",
        "    grid_search.fit(X_train, y_train)\n",
        "    print(\"Best Parameters:\", grid_search.best_params_)\n",
        "\n",
        "    print(\"Best RMSE:\", np.sqrt(-grid_search.best_score_))\n",
        "\n",
        "    best_model = grid_search.best_estimator_\n",
        "    print(best_model)\n",
        "\n",
        "    y2_val_pred = best_model.predict(X2_val)\n",
        "    val_rmse = mean_squared_error(y2_val, y2_val_pred, squared=False)\n",
        "    print(\"Validation RMSE:\", val_rmse)\n",
        "\n",
        "    y2_test_pred = best_model.predict(X2_test)\n",
        "    test_rmse = mean_squared_error(y2_test, y2_test_pred, squared=False)\n",
        "    print(\"Test RMSE:\", test_rmse)\n",
        "\n",
        "    # return best_model"
      ],
      "metadata": {
        "id": "mDV5LE50gzlZ"
      },
      "execution_count": null,
      "outputs": []
    },
    {
      "cell_type": "code",
      "source": [
        "def gbr_tuning(X_train, y_train):\n",
        "    # Buat model Gradient Boosting\n",
        "    gb = GradientBoostingRegressor()\n",
        "\n",
        "    param_grid = {\n",
        "        'n_estimators': [10, 50, 100],\n",
        "        'learning_rate': [0.1, 0.05, 0.01],\n",
        "        'max_depth': [3, 5, 7]\n",
        "    }\n",
        "\n",
        "    grid_search = GridSearchCV(estimator=gb, param_grid=param_grid, cv=5, n_jobs=-1)\n",
        "\n",
        "    grid_search.fit(X_train, y_train)\n",
        "    print(\"Best Parameters:\", grid_search.best_params_)\n",
        "\n",
        "    print(\"Best RMSE:\", np.sqrt(-grid_search.best_score_))\n",
        "\n",
        "    best_model = grid_search.best_estimator_\n",
        "    print(best_model)\n",
        "\n",
        "    y2_val_pred = best_model.predict(X2_val)\n",
        "    val_rmse = mean_squared_error(y2_val, y2_val_pred, squared=False)\n",
        "    print(\"Validation RMSE:\", val_rmse)\n",
        "\n",
        "    y2_test_pred = best_model.predict(X2_test)\n",
        "    test_rmse = mean_squared_error(y2_test, y2_test_pred, squared=False)\n",
        "    print(\"Test RMSE:\", test_rmse)\n",
        "\n",
        "    # return best_model"
      ],
      "metadata": {
        "id": "4o3G8nVWhLjc"
      },
      "execution_count": null,
      "outputs": []
    },
    {
      "cell_type": "code",
      "source": [
        "def svm_tuning(X_train, y_train):\n",
        "    # Buat model Support Vector Machine\n",
        "    svm = SVR()\n",
        "\n",
        "    param_grid = {\n",
        "        'C': [0.1, 1, 10],\n",
        "        'kernel': ['linear', 'rbf'],\n",
        "        'epsilon': [0.1, 0.01, 0.001]\n",
        "    }\n",
        "\n",
        "    grid_search = GridSearchCV(estimator=svm, param_grid=param_grid, cv=5, n_jobs=-1)\n",
        "\n",
        "    grid_search.fit(X_train, y_train)\n",
        "    print(\"Best Parameters:\", grid_search.best_params_)\n",
        "\n",
        "    print(\"Best RMSE:\", np.sqrt(-grid_search.best_score_))\n",
        "\n",
        "    best_model = grid_search.best_estimator_\n",
        "    print(best_model)\n",
        "\n",
        "    y2_val_pred = best_model.predict(X2_val)\n",
        "    val_rmse = mean_squared_error(y2_val, y2_val_pred, squared=False)\n",
        "    print(\"Validation RMSE:\", val_rmse)\n",
        "\n",
        "    y2_test_pred = best_model.predict(X2_test)\n",
        "    test_rmse = mean_squared_error(y2_test, y2_test_pred, squared=False)\n",
        "    print(\"Test RMSE:\", test_rmse)\n",
        "\n",
        "    # return best_model"
      ],
      "metadata": {
        "id": "4ytidwXEhUgf"
      },
      "execution_count": null,
      "outputs": []
    },
    {
      "cell_type": "code",
      "source": [
        "def rf_tuning(X_train, y_train):\n",
        "    # Buat model Random Forest Regression\n",
        "    rf = RandomForestRegressor()\n",
        "\n",
        "    param_grid = {\n",
        "        'n_estimators': [10, 50, 100],\n",
        "        'max_depth': [5, 10, 20],\n",
        "        'min_samples_split': [2, 5, 10],\n",
        "        'min_samples_leaf': [1, 2, 4]\n",
        "    }\n",
        "\n",
        "    grid_search = GridSearchCV(estimator=rf, param_grid=param_grid, cv=5, n_jobs=-1)\n",
        "\n",
        "    grid_search.fit(X_train, y_train)\n",
        "    print(\"Best Parameters:\", grid_search.best_params_)\n",
        "\n",
        "    print(\"Best RMSE:\", np.sqrt(-grid_search.best_score_))\n",
        "\n",
        "    best_model = grid_search.best_estimator_\n",
        "    print(best_model)\n",
        "\n",
        "    y2_val_pred = best_model.predict(X2_val)\n",
        "    val_rmse = mean_squared_error(y2_val, y2_val_pred, squared=False)\n",
        "    print(\"Validation RMSE:\", val_rmse)\n",
        "\n",
        "    y2_test_pred = best_model.predict(X2_test)\n",
        "    test_rmse = mean_squared_error(y2_test, y2_test_pred, squared=False)\n",
        "    print(\"Test RMSE:\", test_rmse)\n",
        "\n",
        "    # return best_model"
      ],
      "metadata": {
        "id": "gJf0E7n6hkmt"
      },
      "execution_count": null,
      "outputs": []
    },
    {
      "cell_type": "markdown",
      "source": [
        "# TEST TUNNING\n"
      ],
      "metadata": {
        "id": "FJADeMXehxvB"
      }
    },
    {
      "cell_type": "code",
      "source": [
        "lr_tuning(X2_train, y2_train)"
      ],
      "metadata": {
        "colab": {
          "base_uri": "https://localhost:8080/"
        },
        "id": "5WFwuFZNhvNC",
        "outputId": "ca729f67-9817-41e2-f707-b62f6a53ec5b"
      },
      "execution_count": null,
      "outputs": [
        {
          "output_type": "stream",
          "name": "stdout",
          "text": [
            "Best Parameters: {}\n",
            "Best RMSE: 7.710115086818586\n",
            "LinearRegression()\n",
            "Validation RMSE: 5446673.830414233\n",
            "Test RMSE: 3685348.7269324935\n"
          ]
        }
      ]
    },
    {
      "cell_type": "code",
      "source": [
        "lasso_tuning(X2_train, y2_train)"
      ],
      "metadata": {
        "colab": {
          "base_uri": "https://localhost:8080/"
        },
        "id": "VVQP2BWWRuY7",
        "outputId": "9a8b7682-79e2-4623-f88d-4effb14f466a"
      },
      "execution_count": null,
      "outputs": [
        {
          "output_type": "stream",
          "name": "stdout",
          "text": [
            "Best Parameters: {'alpha': 0.1}\n",
            "Best RMSE: 7.710114129233845\n",
            "Lasso(alpha=0.1)\n",
            "Validation RMSE: 5446673.793719617\n",
            "Test RMSE: 3685348.6805955875\n"
          ]
        }
      ]
    },
    {
      "cell_type": "code",
      "source": [
        "gbr_tuning(X2_train, y2_train)"
      ],
      "metadata": {
        "colab": {
          "base_uri": "https://localhost:8080/"
        },
        "id": "wDCpCn6QRv_O",
        "outputId": "d9fa0dee-1dc9-441a-d7b0-66354eff4e9a"
      },
      "execution_count": null,
      "outputs": [
        {
          "output_type": "stream",
          "name": "stdout",
          "text": [
            "Best Parameters: {'learning_rate': 0.01, 'max_depth': 7, 'n_estimators': 10}\n",
            "Best RMSE: 1.1516329508555856\n",
            "GradientBoostingRegressor(learning_rate=0.01, max_depth=7, n_estimators=10)\n",
            "Validation RMSE: 5297822.118026576\n",
            "Test RMSE: 3716980.100413375\n"
          ]
        }
      ]
    },
    {
      "cell_type": "code",
      "source": [
        "svm_tuning(X2_train, y2_train)"
      ],
      "metadata": {
        "colab": {
          "base_uri": "https://localhost:8080/"
        },
        "id": "KCkyAHCrSQUc",
        "outputId": "25dc71c7-7375-45a0-a0d5-6db5db9e48a6"
      },
      "execution_count": null,
      "outputs": [
        {
          "output_type": "stream",
          "name": "stdout",
          "text": [
            "Best Parameters: {'C': 10, 'epsilon': 0.1, 'kernel': 'rbf'}\n",
            "Best RMSE: 0.23561746908730063\n",
            "SVR(C=10)\n",
            "Validation RMSE: 5455632.729238866\n",
            "Test RMSE: 3853597.479407799\n"
          ]
        }
      ]
    },
    {
      "cell_type": "code",
      "source": [
        "rf_tuning(X2_train, y2_train)"
      ],
      "metadata": {
        "colab": {
          "base_uri": "https://localhost:8080/"
        },
        "id": "cMx8b1tHZrh7",
        "outputId": "5cf8587c-e33a-4a54-c781-f4ac175578ba"
      },
      "execution_count": null,
      "outputs": [
        {
          "output_type": "stream",
          "name": "stdout",
          "text": [
            "Best Parameters: {'max_depth': 10, 'min_samples_leaf': 1, 'min_samples_split': 10, 'n_estimators': 10}\n",
            "Best RMSE: 0.7902543976423765\n",
            "RandomForestRegressor(max_depth=10, min_samples_split=10, n_estimators=10)\n",
            "Validation RMSE: 4855780.514938493\n",
            "Test RMSE: 3709036.80379264\n"
          ]
        }
      ]
    }
  ]
}